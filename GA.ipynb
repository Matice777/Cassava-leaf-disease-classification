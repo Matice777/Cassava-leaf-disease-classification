{
  "nbformat": 4,
  "nbformat_minor": 0,
  "metadata": {
    "accelerator": "GPU",
    "colab": {
      "provenance": []
    },
    "kernelspec": {
      "display_name": "Python 3",
      "name": "python3"
    },
    "language_info": {
      "name": "python"
    }
  },
  "cells": [
    {
      "cell_type": "code",
      "metadata": {
        "id": "NroJLpjVOEJO"
      },
      "source": [
        "\n",
        "#Parameters:  {'f1': 64, 'f2': 64, 'f3': 512, 'k': 5, 'a1': 'selu', 'a2': 'relu', 'd1': 0.2, 'd2': 0.2, 'op': 'adamax', 'ep': 86}\n",
        "#Accuracy:  0.971# for stageclassification   in t2 , t3 and t4  without gan :\n",
        "#  path of image folder  '/content/drive/MyDrive/stage_classification'\n",
        "#  path of  its Csv file  /content/drive/MyDrive/stage_classification_november.csv\n",
        "from keras import layers\n",
        "from keras import models\n",
        "from keras.callbacks import EarlyStopping\n",
        "import keras\n",
        "from keras.models import Sequential\n",
        "from keras.layers import Dense, Dropout, Flatten\n",
        "from keras.layers import Conv2D, MaxPooling2D\n",
        "from tensorflow.keras.utils import to_categorical\n",
        "import keras.utils as image\n",
        "import numpy as np\n",
        "import pandas as pd\n",
        "from sklearn.preprocessing import LabelEncoder\n",
        "from sklearn.preprocessing import OneHotEncoder\n",
        "import matplotlib.pyplot as plt\n",
        "from sklearn.model_selection import train_test_split\n",
        "from tqdm import tqdm\n",
        "import tensorflow as tf\n",
        "\n",
        "%matplotlib inline"
      ],
      "execution_count": null,
      "outputs": []
    },
    {
      "cell_type": "code",
      "source": [
        "!unzip \"/content/drive/MyDrive/Self/Reduced_dataset-20230509T080830Z-001.zip\""
      ],
      "metadata": {
        "colab": {
          "base_uri": "https://localhost:8080/"
        },
        "id": "hvyW2SH2u2-t",
        "outputId": "db5c1cbd-55e0-4490-a012-03258908343d"
      },
      "execution_count": null,
      "outputs": [
        {
          "output_type": "stream",
          "name": "stdout",
          "text": [
            "Archive:  /content/drive/MyDrive/Self/Reduced_dataset-20230509T080830Z-001.zip\n",
            "  inflating: Reduced_dataset/82290706.jpg  \n",
            "  inflating: Reduced_dataset/7635457.jpg  \n",
            "  inflating: Reduced_dataset/66571398.jpg  \n",
            "  inflating: Reduced_dataset/69119767.jpg  \n",
            "  inflating: Reduced_dataset/78946276.jpg  \n",
            "  inflating: Reduced_dataset/81000729.jpg  \n",
            "  inflating: Reduced_dataset/71842711.jpg  \n",
            "  inflating: Reduced_dataset/72286182.jpg  \n",
            "  inflating: Reduced_dataset/70816770.jpg  \n",
            "  inflating: Reduced_dataset/8129389.jpg  \n",
            "  inflating: Reduced_dataset/65328715.jpg  \n",
            "  inflating: Reduced_dataset/64610911.jpg  \n",
            "  inflating: Reduced_dataset/54133224.jpg  \n",
            "  inflating: Reduced_dataset/5666225.jpg  \n",
            "  inflating: Reduced_dataset/62070739.jpg  \n",
            "  inflating: Reduced_dataset/66494240.jpg  \n",
            "  inflating: Reduced_dataset/84598209.jpg  \n",
            "  inflating: Reduced_dataset/61074408.jpg  \n",
            "  inflating: Reduced_dataset/82853961.jpg  \n",
            "  inflating: Reduced_dataset/7160206.jpg  \n",
            "  inflating: Reduced_dataset/52729180.jpg  \n",
            "  inflating: Reduced_dataset/66116561.jpg  \n",
            "  inflating: Reduced_dataset/51624303.jpg  \n",
            "  inflating: Reduced_dataset/79165028.jpg  \n",
            "  inflating: Reduced_dataset/53515353.jpg  \n",
            "  inflating: Reduced_dataset/52480515.jpg  \n",
            "  inflating: Reduced_dataset/46087551.jpg  \n",
            "  inflating: Reduced_dataset/64732457.jpg  \n",
            "  inflating: Reduced_dataset/84024270.jpg  \n",
            "  inflating: Reduced_dataset/41357060.jpg  \n",
            "  inflating: Reduced_dataset/53025412.jpg  \n",
            "  inflating: Reduced_dataset/42290082.jpg  \n",
            "  inflating: Reduced_dataset/61492497.jpg  \n",
            "  inflating: Reduced_dataset/48105658.jpg  \n",
            "  inflating: Reduced_dataset/46965268.jpg  \n",
            "  inflating: Reduced_dataset/41404383.jpg  \n",
            "  inflating: Reduced_dataset/37107374.jpg  \n",
            "  inflating: Reduced_dataset/35829857.jpg  \n",
            "  inflating: Reduced_dataset/29559503.jpg  \n",
            "  inflating: Reduced_dataset/33163324.jpg  \n",
            "  inflating: Reduced_dataset/20550531.jpg  \n",
            "  inflating: Reduced_dataset/16429963.jpg  \n",
            "  inflating: Reduced_dataset/61297107.jpg  \n",
            "  inflating: Reduced_dataset/35180724.jpg  \n",
            "  inflating: Reduced_dataset/12688038.jpg  \n",
            "  inflating: Reduced_dataset/40960944.jpg  \n",
            "  inflating: Reduced_dataset/19872828.jpg  \n",
            "  inflating: Reduced_dataset/11162952.jpg  \n",
            "  inflating: Reduced_dataset/23975111.jpg  \n",
            "  inflating: Reduced_dataset/10780620.jpg  \n",
            "  inflating: Reduced_dataset/19905959.jpg  \n",
            "  inflating: Reduced_dataset/1726153.jpg  \n",
            "  inflating: Reduced_dataset/4851187.jpg  \n",
            "  inflating: Reduced_dataset/49697815.jpg  \n",
            "  inflating: Reduced_dataset/51748275.jpg  \n",
            "  inflating: Reduced_dataset/46435039.jpg  \n",
            "  inflating: Reduced_dataset/45753456.jpg  \n",
            "  inflating: Reduced_dataset/10169000.jpg  \n",
            "  inflating: Reduced_dataset/22341045.jpg  \n",
            "  inflating: Reduced_dataset/2820350.jpg  \n",
            "  inflating: Reduced_dataset/25658571.jpg  \n",
            "  inflating: Reduced_dataset/20153440.jpg  \n",
            "  inflating: Reduced_dataset/27094452.jpg  \n",
            "  inflating: Reduced_dataset/31398935.jpg  \n",
            "  inflating: Reduced_dataset/27819829.jpg  \n",
            "  inflating: Reduced_dataset/101876866.jpg  \n",
            "  inflating: Reduced_dataset/24521071.jpg  \n",
            "  inflating: Reduced_dataset/28237822.jpg  \n",
            "  inflating: Reduced_dataset/102447703.jpg  \n"
          ]
        }
      ]
    },
    {
      "cell_type": "code",
      "source": [
        "!unzip /content/drive/MyDrive/Self/train_images-20230509T080830Z-001.zip"
      ],
      "metadata": {
        "colab": {
          "base_uri": "https://localhost:8080/"
        },
        "id": "l9Abr9F4YChn",
        "outputId": "e3f6afad-1100-45ac-c3d2-3af568f5fcc3"
      },
      "execution_count": null,
      "outputs": [
        {
          "output_type": "stream",
          "name": "stdout",
          "text": [
            "Archive:  /content/drive/MyDrive/Self/train_images-20230509T080830Z-001.zip\n",
            "  inflating: train_images/80998969.jpg  \n",
            "  inflating: train_images/83870062.jpg  \n",
            "  inflating: train_images/77379532.jpg  \n",
            "  inflating: train_images/82105739.jpg  \n",
            "  inflating: train_images/83337985.jpg  \n",
            "  inflating: train_images/81000729.jpg  \n",
            "  inflating: train_images/83814661.jpg  \n",
            "  inflating: train_images/80488129.jpg  \n",
            "  inflating: train_images/74548158.jpg  \n",
            "  inflating: train_images/84339133.jpg  \n",
            "  inflating: train_images/84269918.jpg  \n",
            "  inflating: train_images/79867712.jpg  \n",
            "  inflating: train_images/81164598.jpg  \n",
            "  inflating: train_images/76610968.jpg  \n",
            "  inflating: train_images/79165028.jpg  \n",
            "  inflating: train_images/79867712(1).jpg  \n",
            "  inflating: train_images/77981157.jpg  \n",
            "  inflating: train_images/75951556.jpg  \n",
            "  inflating: train_images/71913940.jpg  \n",
            "  inflating: train_images/72299830.jpg  \n",
            "  inflating: train_images/76026574.jpg  \n",
            "  inflating: train_images/81845086.jpg  \n",
            "  inflating: train_images/81164598(1).jpg  \n",
            "  inflating: train_images/7830631.jpg  \n",
            "  inflating: train_images/80482467.jpg  \n",
            "  inflating: train_images/83815023.jpg  \n",
            "  inflating: train_images/77896504.jpg  \n",
            "  inflating: train_images/78347787.jpg  \n",
            "  inflating: train_images/70700352.jpg  \n",
            "  inflating: train_images/68141141.jpg  \n",
            "  inflating: train_images/72014881.jpg  \n",
            "  inflating: train_images/70656521.jpg  \n",
            "  inflating: train_images/73533711.jpg  \n",
            "  inflating: train_images/74571802.jpg  \n",
            "  inflating: train_images/75068408.jpg  \n",
            "  inflating: train_images/75598343.jpg  \n",
            "  inflating: train_images/68550961.jpg  \n",
            "  inflating: train_images/7145099.jpg  \n",
            "  inflating: train_images/69803851.jpg  \n",
            "  inflating: train_images/68735991.jpg  \n",
            "  inflating: train_images/72715709.jpg  \n",
            "  inflating: train_images/78106943.jpg  \n",
            "  inflating: train_images/76900399.jpg  \n",
            "  inflating: train_images/72925791.jpg  \n",
            "  inflating: train_images/62771226.jpg  \n",
            "  inflating: train_images/63775422.jpg  \n",
            "  inflating: train_images/76889034.jpg  \n",
            "  inflating: train_images/73728059.jpg  \n",
            "  inflating: train_images/72640810.jpg  \n",
            "  inflating: train_images/68764231.jpg  \n",
            "  inflating: train_images/75207996.jpg  \n",
            "  inflating: train_images/65235972.jpg  \n",
            "  inflating: train_images/6788393.jpg  \n",
            "  inflating: train_images/67235681.jpg  \n",
            "  inflating: train_images/690163.jpg  \n",
            "  inflating: train_images/63159897.jpg  \n",
            "  inflating: train_images/69869891.jpg  \n",
            "  inflating: train_images/66240294.jpg  \n",
            "  inflating: train_images/69003295.jpg  \n",
            "  inflating: train_images/76754228.jpg  \n",
            "  inflating: train_images/65139094.jpg  \n",
            "  inflating: train_images/60094859.jpg  \n",
            "  inflating: train_images/62053025.jpg  \n",
            "  inflating: train_images/67533463.jpg  \n",
            "  inflating: train_images/68761769.jpg  \n",
            "  inflating: train_images/70412561.jpg  \n",
            "  inflating: train_images/65949096.jpg  \n",
            "  inflating: train_images/5912799.jpg  \n",
            "  inflating: train_images/63578884.jpg  \n",
            "  inflating: train_images/72147766.jpg  \n",
            "  inflating: train_images/66720017.jpg  \n",
            "  inflating: train_images/6442965.jpg  \n",
            "  inflating: train_images/59208991.jpg  \n",
            "  inflating: train_images/62069424.jpg  \n",
            "  inflating: train_images/59894282.jpg  \n",
            "  inflating: train_images/58446146.jpg  \n",
            "  inflating: train_images/66458318.jpg  \n",
            "  inflating: train_images/58390189.jpg  \n",
            "  inflating: train_images/60495599.jpg  \n",
            "  inflating: train_images/60038493.jpg  \n",
            "  inflating: train_images/61901680.jpg  \n",
            "  inflating: train_images/56784677.jpg  \n",
            "  inflating: train_images/5430583.jpg  \n",
            "  inflating: train_images/66820054.jpg  \n",
            "  inflating: train_images/58667011.jpg  \n",
            "  inflating: train_images/61044687.jpg  \n",
            "  inflating: train_images/62457077.jpg  \n",
            "  inflating: train_images/6103.jpg   \n",
            "  inflating: train_images/54600142.jpg  \n",
            "  inflating: train_images/60029813.jpg  \n",
            "  inflating: train_images/57892387.jpg  \n",
            "  inflating: train_images/55220429.jpg  \n",
            "  inflating: train_images/61216809.jpg  \n",
            "  inflating: train_images/55670030.jpg  \n",
            "  inflating: train_images/57861623.jpg  \n",
            "  inflating: train_images/57099592.jpg  \n",
            "  inflating: train_images/56205477.jpg  \n",
            "  inflating: train_images/56135051.jpg  \n",
            "  inflating: train_images/5664536.jpg  \n",
            "  inflating: train_images/54787315.jpg  \n",
            "  inflating: train_images/58780369.jpg  \n",
            "  inflating: train_images/58720038.jpg  \n",
            "  inflating: train_images/61357519.jpg  \n",
            "  inflating: train_images/59901561.jpg  \n",
            "  inflating: train_images/58528063.jpg  \n",
            "  inflating: train_images/50496855.jpg  \n",
            "  inflating: train_images/59686251.jpg  \n",
            "  inflating: train_images/58559275.jpg  \n",
            "  inflating: train_images/51370822.jpg  \n",
            "  inflating: train_images/51075448.jpg  \n",
            "  inflating: train_images/51063556.jpg  \n",
            "  inflating: train_images/52883488.jpg  \n",
            "  inflating: train_images/57023383.jpg  \n",
            "  inflating: train_images/51460409.jpg  \n",
            "  inflating: train_images/5546511.jpg  \n",
            "  inflating: train_images/48759144.jpg  \n",
            "  inflating: train_images/53835845.jpg  \n",
            "  inflating: train_images/53822293.jpg  \n",
            "  inflating: train_images/5088626.jpg  \n",
            "  inflating: train_images/57149651.jpg  \n",
            "  inflating: train_images/57665451.jpg  \n",
            "  inflating: train_images/44779769.jpg  \n",
            "  inflating: train_images/53955129.jpg  \n",
            "  inflating: train_images/43523745.jpg  \n",
            "  inflating: train_images/50223703.jpg  \n",
            "  inflating: train_images/43315915.jpg  \n",
            "  inflating: train_images/4359365.jpg  \n",
            "  inflating: train_images/4785038.jpg  \n",
            "  inflating: train_images/42968835.jpg  \n",
            "  inflating: train_images/42609166.jpg  \n",
            "  inflating: train_images/4222242.jpg  \n",
            "  inflating: train_images/54321323.jpg  \n",
            "  inflating: train_images/53200283.jpg  \n",
            "  inflating: train_images/49440106.jpg  \n",
            "  inflating: train_images/4551119.jpg  \n",
            "  inflating: train_images/42688414.jpg  \n",
            "  inflating: train_images/41327518.jpg  \n",
            "  inflating: train_images/50441514.jpg  \n",
            "  inflating: train_images/53164927.jpg  \n",
            "  inflating: train_images/49703968.jpg  \n",
            "  inflating: train_images/39509515.jpg  \n",
            "  inflating: train_images/53065520.jpg  \n",
            "  inflating: train_images/50589657.jpg  \n",
            "  inflating: train_images/42026505.jpg  \n",
            "  inflating: train_images/40795473.jpg  \n",
            "  inflating: train_images/49856658.jpg  \n",
            "  inflating: train_images/4166762.jpg  \n",
            "  inflating: train_images/41606397.jpg  \n",
            "  inflating: train_images/37954651.jpg  \n",
            "  inflating: train_images/38680980.jpg  \n",
            "  inflating: train_images/49247184.jpg  \n",
            "  inflating: train_images/35875939.jpg  \n",
            "  inflating: train_images/55319830.jpg  \n",
            "  inflating: train_images/4522938.jpg  \n",
            "  inflating: train_images/4365857.jpg  \n",
            "  inflating: train_images/36120366.jpg  \n",
            "  inflating: train_images/3624585.jpg  \n",
            "  inflating: train_images/42091153.jpg  \n",
            "  inflating: train_images/3852521.jpg  \n",
            "  inflating: train_images/44786547.jpg  \n",
            "  inflating: train_images/3969515.jpg  \n",
            "  inflating: train_images/40696329.jpg  \n",
            "  inflating: train_images/39272616.jpg  \n",
            "  inflating: train_images/35345736.jpg  \n",
            "  inflating: train_images/36508013.jpg  \n",
            "  inflating: train_images/35045621.jpg  \n",
            "  inflating: train_images/31199469.jpg  \n",
            "  inflating: train_images/41378433.jpg  \n",
            "  inflating: train_images/31445437.jpg  \n",
            "  inflating: train_images/35835458.jpg  \n",
            "  inflating: train_images/32107301.jpg  \n",
            "  inflating: train_images/34481998.jpg  \n",
            "  inflating: train_images/34123892.jpg  \n",
            "  inflating: train_images/336550.jpg  \n",
            "  inflating: train_images/32222018.jpg  \n",
            "  inflating: train_images/37879713.jpg  \n",
            "  inflating: train_images/30339454.jpg  \n",
            "  inflating: train_images/32717492.jpg  \n",
            "  inflating: train_images/31351569.jpg  \n",
            "  inflating: train_images/38648135.jpg  \n",
            "  inflating: train_images/30167147.jpg  \n",
            "  inflating: train_images/31718378.jpg  \n",
            "  inflating: train_images/28277357.jpg  \n",
            "  inflating: train_images/3519898.jpg  \n",
            "  inflating: train_images/28448308.jpg  \n",
            "  inflating: train_images/2884361.jpg  \n",
            "  inflating: train_images/51284514.jpg  \n",
            "  inflating: train_images/27047804.jpg  \n",
            "  inflating: train_images/33138536.jpg  \n",
            "  inflating: train_images/34008971.jpg  \n",
            "  inflating: train_images/43400769.jpg  \n",
            "  inflating: train_images/42150813.jpg  \n",
            "  inflating: train_images/29080398.jpg  \n",
            "  inflating: train_images/24632378.jpg  \n",
            "  inflating: train_images/29400522.jpg  \n",
            "  inflating: train_images/31471904.jpg  \n",
            "  inflating: train_images/31623252.jpg  \n",
            "  inflating: train_images/28666432.jpg  \n",
            "  inflating: train_images/3004502.jpg  \n",
            "  inflating: train_images/30215524.jpg  \n",
            "  inflating: train_images/23581399.jpg  \n",
            "  inflating: train_images/23042367.jpg  \n",
            "  inflating: train_images/27221590.jpg  \n",
            "  inflating: train_images/26102442.jpg  \n",
            "  inflating: train_images/25961020.jpg  \n",
            "  inflating: train_images/25519336.jpg  \n",
            "  inflating: train_images/27376313.jpg  \n",
            "  inflating: train_images/26942115.jpg  \n",
            "  inflating: train_images/26253906.jpg  \n",
            "  inflating: train_images/18822170.jpg  \n",
            "  inflating: train_images/21617931.jpg  \n",
            "  inflating: train_images/21016852.jpg  \n",
            "  inflating: train_images/18792791.jpg  \n",
            "  inflating: train_images/16457413.jpg  \n",
            "  inflating: train_images/15383908.jpg  \n",
            "  inflating: train_images/12351712.jpg  \n",
            "  inflating: train_images/13892025.jpg  \n",
            "  inflating: train_images/19555068.jpg  \n",
            "  inflating: train_images/13975743.jpg  \n",
            "  inflating: train_images/26805266.jpg  \n",
            "  inflating: train_images/2323936.jpg  \n",
            "  inflating: train_images/25116516.jpg  \n",
            "  inflating: train_images/17969020.jpg  \n",
            "  inflating: train_images/43727066.jpg  \n",
            "  inflating: train_images/22910447.jpg  \n",
            "  inflating: train_images/18517305.jpg  \n",
            "  inflating: train_images/23257124.jpg  \n",
            "  inflating: train_images/23064716.jpg  \n",
            "  inflating: train_images/1411386.jpg  \n",
            "  inflating: train_images/25671501.jpg  \n",
            "  inflating: train_images/25132460.jpg  \n",
            "  inflating: train_images/27989539.jpg  \n",
            "  inflating: train_images/19890423.jpg  \n",
            "  inflating: train_images/21101348.jpg  \n",
            "  inflating: train_images/22116035.jpg  \n",
            "  inflating: train_images/1919914.jpg  \n",
            "  inflating: train_images/19090141.jpg  \n",
            "  inflating: train_images/1107438.jpg  \n",
            "  inflating: train_images/15982075.jpg  \n",
            "  inflating: train_images/33354579.jpg  \n",
            "  inflating: train_images/13891046.jpg  \n",
            "  inflating: train_images/102968016.jpg  \n",
            "  inflating: train_images/27426972.jpg  \n",
            "  inflating: train_images/218377.jpg  \n",
            "  inflating: train_images/20619161.jpg  \n",
            "  inflating: train_images/20518383.jpg  \n",
            "  inflating: train_images/16415174.jpg  \n",
            "  inflating: train_images/16980960.jpg  \n",
            "  inflating: train_images/21962653.jpg  \n",
            "  inflating: train_images/103776422.jpg  \n",
            "  inflating: train_images/16503141.jpg  \n",
            "  inflating: train_images/11574961.jpg  \n",
            "  inflating: train_images/13502100.jpg  \n",
            "  inflating: train_images/104535906.jpg  \n",
            "  inflating: train_images/10606813.jpg  \n",
            "  inflating: train_images/102485576.jpg  \n",
            "  inflating: train_images/101712540.jpg  \n",
            "  inflating: train_images/12377617.jpg  \n",
            "  inflating: train_images/20966306.jpg  \n",
            "  inflating: train_images/1571022.jpg  \n",
            "  inflating: train_images/100042118.jpg  \n",
            "  inflating: train_images/100204014.jpg  \n",
            "  inflating: train_images/100731318.jpg  \n",
            "  inflating: train_images/100533489.jpg  \n",
            "  inflating: train_images/17774752.jpg  \n",
            "  inflating: train_images/15196864.jpg  \n",
            "  inflating: train_images/48153077.jpg  \n",
            "  inflating: train_images/104086261.jpg  \n",
            "  inflating: train_images/103630546.jpg  \n",
            "  inflating: train_images/13399494.jpg  \n",
            "  inflating: train_images/13314358.jpg  \n",
            "  inflating: train_images/1220197.jpg  \n",
            "  inflating: train_images/11690064.jpg  \n",
            "  inflating: train_images/102719039.jpg  \n",
            "  inflating: train_images/11252426.jpg  \n",
            "  inflating: train_images/102039365.jpg  \n",
            "  inflating: train_images/10607686.jpg  \n",
            "  inflating: train_images/100609661.jpg  \n",
            "  inflating: train_images/100472565.jpg  \n"
          ]
        }
      ]
    },
    {
      "cell_type": "code",
      "metadata": {
        "colab": {
          "base_uri": "https://localhost:8080/"
        },
        "id": "wPJgNVJmOGhL",
        "outputId": "e148c4ab-7040-45f8-8b9f-791579640adb"
      },
      "source": [
        "from google.colab import drive\n",
        "drive.mount('/content/drive',force_remount=True)"
      ],
      "execution_count": null,
      "outputs": [
        {
          "output_type": "stream",
          "name": "stdout",
          "text": [
            "Mounted at /content/drive\n"
          ]
        }
      ]
    },
    {
      "cell_type": "code",
      "metadata": {
        "id": "39tgbxY-cMMi"
      },
      "source": [],
      "execution_count": null,
      "outputs": []
    },
    {
      "cell_type": "code",
      "metadata": {
        "id": "F0QT7LxbOKxT",
        "colab": {
          "base_uri": "https://localhost:8080/",
          "height": 423
        },
        "outputId": "e0349170-a7a0-4950-ca01-f7cf889afce1"
      },
      "source": [
        "#train = pd.read_csv('/content/drive/MyDrive/s1-s2 and s3-s4.csv')   # reading the csv file\n",
        "train = pd.read_csv('/content/drive/MyDrive/Self/train.csv')\n",
        "\n",
        "train.head(n=992)"
      ],
      "execution_count": null,
      "outputs": [
        {
          "output_type": "execute_result",
          "data": {
            "text/plain": [
              "           image_id  label\n",
              "0    1000015157.jpg      0\n",
              "1    1000201771.jpg      3\n",
              "2     100042118.jpg      1\n",
              "3    1000723321.jpg      1\n",
              "4    1000812911.jpg      3\n",
              "..              ...    ...\n",
              "498   108944327.jpg      3\n",
              "499  1089555688.jpg      3\n",
              "500  1089661926.jpg      1\n",
              "501  1089759212.jpg      0\n",
              "502  1089887353.jpg      3\n",
              "\n",
              "[503 rows x 2 columns]"
            ],
            "text/html": [
              "\n",
              "  <div id=\"df-6bb1826d-a250-4ed0-a22a-f07a56ef5de3\">\n",
              "    <div class=\"colab-df-container\">\n",
              "      <div>\n",
              "<style scoped>\n",
              "    .dataframe tbody tr th:only-of-type {\n",
              "        vertical-align: middle;\n",
              "    }\n",
              "\n",
              "    .dataframe tbody tr th {\n",
              "        vertical-align: top;\n",
              "    }\n",
              "\n",
              "    .dataframe thead th {\n",
              "        text-align: right;\n",
              "    }\n",
              "</style>\n",
              "<table border=\"1\" class=\"dataframe\">\n",
              "  <thead>\n",
              "    <tr style=\"text-align: right;\">\n",
              "      <th></th>\n",
              "      <th>image_id</th>\n",
              "      <th>label</th>\n",
              "    </tr>\n",
              "  </thead>\n",
              "  <tbody>\n",
              "    <tr>\n",
              "      <th>0</th>\n",
              "      <td>1000015157.jpg</td>\n",
              "      <td>0</td>\n",
              "    </tr>\n",
              "    <tr>\n",
              "      <th>1</th>\n",
              "      <td>1000201771.jpg</td>\n",
              "      <td>3</td>\n",
              "    </tr>\n",
              "    <tr>\n",
              "      <th>2</th>\n",
              "      <td>100042118.jpg</td>\n",
              "      <td>1</td>\n",
              "    </tr>\n",
              "    <tr>\n",
              "      <th>3</th>\n",
              "      <td>1000723321.jpg</td>\n",
              "      <td>1</td>\n",
              "    </tr>\n",
              "    <tr>\n",
              "      <th>4</th>\n",
              "      <td>1000812911.jpg</td>\n",
              "      <td>3</td>\n",
              "    </tr>\n",
              "    <tr>\n",
              "      <th>...</th>\n",
              "      <td>...</td>\n",
              "      <td>...</td>\n",
              "    </tr>\n",
              "    <tr>\n",
              "      <th>498</th>\n",
              "      <td>108944327.jpg</td>\n",
              "      <td>3</td>\n",
              "    </tr>\n",
              "    <tr>\n",
              "      <th>499</th>\n",
              "      <td>1089555688.jpg</td>\n",
              "      <td>3</td>\n",
              "    </tr>\n",
              "    <tr>\n",
              "      <th>500</th>\n",
              "      <td>1089661926.jpg</td>\n",
              "      <td>1</td>\n",
              "    </tr>\n",
              "    <tr>\n",
              "      <th>501</th>\n",
              "      <td>1089759212.jpg</td>\n",
              "      <td>0</td>\n",
              "    </tr>\n",
              "    <tr>\n",
              "      <th>502</th>\n",
              "      <td>1089887353.jpg</td>\n",
              "      <td>3</td>\n",
              "    </tr>\n",
              "  </tbody>\n",
              "</table>\n",
              "<p>503 rows × 2 columns</p>\n",
              "</div>\n",
              "      <button class=\"colab-df-convert\" onclick=\"convertToInteractive('df-6bb1826d-a250-4ed0-a22a-f07a56ef5de3')\"\n",
              "              title=\"Convert this dataframe to an interactive table.\"\n",
              "              style=\"display:none;\">\n",
              "        \n",
              "  <svg xmlns=\"http://www.w3.org/2000/svg\" height=\"24px\"viewBox=\"0 0 24 24\"\n",
              "       width=\"24px\">\n",
              "    <path d=\"M0 0h24v24H0V0z\" fill=\"none\"/>\n",
              "    <path d=\"M18.56 5.44l.94 2.06.94-2.06 2.06-.94-2.06-.94-.94-2.06-.94 2.06-2.06.94zm-11 1L8.5 8.5l.94-2.06 2.06-.94-2.06-.94L8.5 2.5l-.94 2.06-2.06.94zm10 10l.94 2.06.94-2.06 2.06-.94-2.06-.94-.94-2.06-.94 2.06-2.06.94z\"/><path d=\"M17.41 7.96l-1.37-1.37c-.4-.4-.92-.59-1.43-.59-.52 0-1.04.2-1.43.59L10.3 9.45l-7.72 7.72c-.78.78-.78 2.05 0 2.83L4 21.41c.39.39.9.59 1.41.59.51 0 1.02-.2 1.41-.59l7.78-7.78 2.81-2.81c.8-.78.8-2.07 0-2.86zM5.41 20L4 18.59l7.72-7.72 1.47 1.35L5.41 20z\"/>\n",
              "  </svg>\n",
              "      </button>\n",
              "      \n",
              "  <style>\n",
              "    .colab-df-container {\n",
              "      display:flex;\n",
              "      flex-wrap:wrap;\n",
              "      gap: 12px;\n",
              "    }\n",
              "\n",
              "    .colab-df-convert {\n",
              "      background-color: #E8F0FE;\n",
              "      border: none;\n",
              "      border-radius: 50%;\n",
              "      cursor: pointer;\n",
              "      display: none;\n",
              "      fill: #1967D2;\n",
              "      height: 32px;\n",
              "      padding: 0 0 0 0;\n",
              "      width: 32px;\n",
              "    }\n",
              "\n",
              "    .colab-df-convert:hover {\n",
              "      background-color: #E2EBFA;\n",
              "      box-shadow: 0px 1px 2px rgba(60, 64, 67, 0.3), 0px 1px 3px 1px rgba(60, 64, 67, 0.15);\n",
              "      fill: #174EA6;\n",
              "    }\n",
              "\n",
              "    [theme=dark] .colab-df-convert {\n",
              "      background-color: #3B4455;\n",
              "      fill: #D2E3FC;\n",
              "    }\n",
              "\n",
              "    [theme=dark] .colab-df-convert:hover {\n",
              "      background-color: #434B5C;\n",
              "      box-shadow: 0px 1px 3px 1px rgba(0, 0, 0, 0.15);\n",
              "      filter: drop-shadow(0px 1px 2px rgba(0, 0, 0, 0.3));\n",
              "      fill: #FFFFFF;\n",
              "    }\n",
              "  </style>\n",
              "\n",
              "      <script>\n",
              "        const buttonEl =\n",
              "          document.querySelector('#df-6bb1826d-a250-4ed0-a22a-f07a56ef5de3 button.colab-df-convert');\n",
              "        buttonEl.style.display =\n",
              "          google.colab.kernel.accessAllowed ? 'block' : 'none';\n",
              "\n",
              "        async function convertToInteractive(key) {\n",
              "          const element = document.querySelector('#df-6bb1826d-a250-4ed0-a22a-f07a56ef5de3');\n",
              "          const dataTable =\n",
              "            await google.colab.kernel.invokeFunction('convertToInteractive',\n",
              "                                                     [key], {});\n",
              "          if (!dataTable) return;\n",
              "\n",
              "          const docLinkHtml = 'Like what you see? Visit the ' +\n",
              "            '<a target=\"_blank\" href=https://colab.research.google.com/notebooks/data_table.ipynb>data table notebook</a>'\n",
              "            + ' to learn more about interactive tables.';\n",
              "          element.innerHTML = '';\n",
              "          dataTable['output_type'] = 'display_data';\n",
              "          await google.colab.output.renderOutput(dataTable, element);\n",
              "          const docLink = document.createElement('div');\n",
              "          docLink.innerHTML = docLinkHtml;\n",
              "          element.appendChild(docLink);\n",
              "        }\n",
              "      </script>\n",
              "    </div>\n",
              "  </div>\n",
              "  "
            ]
          },
          "metadata": {},
          "execution_count": 5
        }
      ]
    },
    {
      "cell_type": "code",
      "metadata": {
        "colab": {
          "base_uri": "https://localhost:8080/"
        },
        "id": "SAEwSfSYOeXt",
        "outputId": "994d57f6-b9f6-4eb6-9a1c-09f2589845ba"
      },
      "source": [
        "train.columns"
      ],
      "execution_count": null,
      "outputs": [
        {
          "output_type": "execute_result",
          "data": {
            "text/plain": [
              "Index(['image_id', 'label'], dtype='object')"
            ]
          },
          "metadata": {},
          "execution_count": 6
        }
      ]
    },
    {
      "cell_type": "code",
      "source": [
        "train['label'].value_counts()"
      ],
      "metadata": {
        "colab": {
          "base_uri": "https://localhost:8080/"
        },
        "id": "cy5gZR7vezXV",
        "outputId": "ee58f7cb-e9a8-41ff-987a-12d359f7d54f"
      },
      "execution_count": null,
      "outputs": [
        {
          "output_type": "execute_result",
          "data": {
            "text/plain": [
              "3    307\n",
              "4     61\n",
              "1     53\n",
              "2     52\n",
              "0     30\n",
              "Name: label, dtype: int64"
            ]
          },
          "metadata": {},
          "execution_count": 8
        }
      ]
    },
    {
      "cell_type": "code",
      "source": [
        "df = pd.read_csv(\"/content/drive/MyDrive/Self/train.csv\")\n",
        "df.label = df.label.astype(str)"
      ],
      "metadata": {
        "id": "ruvpKteHbe34"
      },
      "execution_count": null,
      "outputs": []
    },
    {
      "cell_type": "code",
      "source": [
        "import cv2"
      ],
      "metadata": {
        "id": "LL53bhLUw_sb"
      },
      "execution_count": null,
      "outputs": []
    },
    {
      "cell_type": "code",
      "source": [],
      "metadata": {
        "id": "U_oXPjGSzmJR"
      },
      "execution_count": null,
      "outputs": []
    },
    {
      "cell_type": "code",
      "metadata": {
        "id": "QsL7yrtbRQBD",
        "colab": {
          "base_uri": "https://localhost:8080/"
        },
        "outputId": "ab9e067f-5458-403f-8203-02db43dba65e"
      },
      "source": [
        "train_image = []\n",
        "for i in tqdm(range(train.shape[0])):\n",
        "    #img = image.load_img('/content/train_images',train['label'][i],target_size=(28,28,3))\n",
        "    img = tf.keras.utils.load_img('/content/drive/MyDrive/Self/Reduced_images.jpg')\n",
        "    #img = cv2.imread(\"/content/Reduced_dataset\",cv2.resize(28,28))\n",
        "    print(img)\n",
        "    img = image.img_to_array(img)\n",
        "\n",
        "    #img = img/255\n",
        "    #train_image.append(img)\n",
        "X = np.array(train_image)\n"
      ],
      "execution_count": null,
      "outputs": [
        {
          "output_type": "stream",
          "name": "stderr",
          "text": [
            "  1%|          | 6/503 [00:00<00:08, 58.47it/s]"
          ]
        },
        {
          "output_type": "stream",
          "name": "stdout",
          "text": [
            "<PIL.JpegImagePlugin.JpegImageFile image mode=RGB size=800x600 at 0x7FF750D26260>\n",
            "<PIL.JpegImagePlugin.JpegImageFile image mode=RGB size=800x600 at 0x7FF750D25870>\n",
            "<PIL.JpegImagePlugin.JpegImageFile image mode=RGB size=800x600 at 0x7FF750D25B40>\n",
            "<PIL.JpegImagePlugin.JpegImageFile image mode=RGB size=800x600 at 0x7FF750D26260>\n",
            "<PIL.JpegImagePlugin.JpegImageFile image mode=RGB size=800x600 at 0x7FF750D266B0>\n",
            "<PIL.JpegImagePlugin.JpegImageFile image mode=RGB size=800x600 at 0x7FF750D25600>\n",
            "<PIL.JpegImagePlugin.JpegImageFile image mode=RGB size=800x600 at 0x7FF750D269B0>\n",
            "<PIL.JpegImagePlugin.JpegImageFile image mode=RGB size=800x600 at 0x7FF750D25DE0>\n",
            "<PIL.JpegImagePlugin.JpegImageFile image mode=RGB size=800x600 at 0x7FF750D269B0>\n",
            "<PIL.JpegImagePlugin.JpegImageFile image mode=RGB size=800x600 at 0x7FF750D25DE0>\n",
            "<PIL.JpegImagePlugin.JpegImageFile image mode=RGB size=800x600 at 0x7FF750D269B0>\n",
            "<PIL.JpegImagePlugin.JpegImageFile image mode=RGB size=800x600 at 0x7FF750D25DE0>\n",
            "<PIL.JpegImagePlugin.JpegImageFile image mode=RGB size=800x600 at 0x7FF750D269B0>\n"
          ]
        },
        {
          "output_type": "stream",
          "name": "stderr",
          "text": [
            "  4%|▍         | 20/503 [00:00<00:07, 63.14it/s]"
          ]
        },
        {
          "output_type": "stream",
          "name": "stdout",
          "text": [
            "<PIL.JpegImagePlugin.JpegImageFile image mode=RGB size=800x600 at 0x7FF750D26260>\n",
            "<PIL.JpegImagePlugin.JpegImageFile image mode=RGB size=800x600 at 0x7FF750D269B0>\n",
            "<PIL.JpegImagePlugin.JpegImageFile image mode=RGB size=800x600 at 0x7FF750D26260>\n",
            "<PIL.JpegImagePlugin.JpegImageFile image mode=RGB size=800x600 at 0x7FF750D269B0>\n",
            "<PIL.JpegImagePlugin.JpegImageFile image mode=RGB size=800x600 at 0x7FF750D25AB0>\n",
            "<PIL.JpegImagePlugin.JpegImageFile image mode=RGB size=800x600 at 0x7FF750D25B40>\n",
            "<PIL.JpegImagePlugin.JpegImageFile image mode=RGB size=800x600 at 0x7FF750D25AB0>\n",
            "<PIL.JpegImagePlugin.JpegImageFile image mode=RGB size=800x600 at 0x7FF750D25F60>\n",
            "<PIL.JpegImagePlugin.JpegImageFile image mode=RGB size=800x600 at 0x7FF750D26260>\n",
            "<PIL.JpegImagePlugin.JpegImageFile image mode=RGB size=800x600 at 0x7FF750D25F60>\n",
            "<PIL.JpegImagePlugin.JpegImageFile image mode=RGB size=800x600 at 0x7FF750D26260>\n",
            "<PIL.JpegImagePlugin.JpegImageFile image mode=RGB size=800x600 at 0x7FF750D25F60>\n",
            "<PIL.JpegImagePlugin.JpegImageFile image mode=RGB size=800x600 at 0x7FF750D26260>\n"
          ]
        },
        {
          "output_type": "stream",
          "name": "stderr",
          "text": [
            "  7%|▋         | 34/503 [00:00<00:07, 60.87it/s]"
          ]
        },
        {
          "output_type": "stream",
          "name": "stdout",
          "text": [
            "<PIL.JpegImagePlugin.JpegImageFile image mode=RGB size=800x600 at 0x7FF750D25F60>\n",
            "<PIL.JpegImagePlugin.JpegImageFile image mode=RGB size=800x600 at 0x7FF750D26020>\n",
            "<PIL.JpegImagePlugin.JpegImageFile image mode=RGB size=800x600 at 0x7FF750D26260>\n",
            "<PIL.JpegImagePlugin.JpegImageFile image mode=RGB size=800x600 at 0x7FF750D25870>\n",
            "<PIL.JpegImagePlugin.JpegImageFile image mode=RGB size=800x600 at 0x7FF750D266B0>\n",
            "<PIL.JpegImagePlugin.JpegImageFile image mode=RGB size=800x600 at 0x7FF750D25870>\n",
            "<PIL.JpegImagePlugin.JpegImageFile image mode=RGB size=800x600 at 0x7FF750D266B0>\n",
            "<PIL.JpegImagePlugin.JpegImageFile image mode=RGB size=800x600 at 0x7FF750D25870>\n",
            "<PIL.JpegImagePlugin.JpegImageFile image mode=RGB size=800x600 at 0x7FF750D25AB0>\n",
            "<PIL.JpegImagePlugin.JpegImageFile image mode=RGB size=800x600 at 0x7FF750D25F60>\n",
            "<PIL.JpegImagePlugin.JpegImageFile image mode=RGB size=800x600 at 0x7FF750D25AB0>\n",
            "<PIL.JpegImagePlugin.JpegImageFile image mode=RGB size=800x600 at 0x7FF750D25F60>\n"
          ]
        },
        {
          "output_type": "stream",
          "name": "stderr",
          "text": [
            " 10%|▉         | 50/503 [00:00<00:06, 67.04it/s]"
          ]
        },
        {
          "output_type": "stream",
          "name": "stdout",
          "text": [
            "<PIL.JpegImagePlugin.JpegImageFile image mode=RGB size=800x600 at 0x7FF750D25AB0>\n",
            "<PIL.JpegImagePlugin.JpegImageFile image mode=RGB size=800x600 at 0x7FF750D25F60>\n",
            "<PIL.JpegImagePlugin.JpegImageFile image mode=RGB size=800x600 at 0x7FF750D25AB0>\n",
            "<PIL.JpegImagePlugin.JpegImageFile image mode=RGB size=800x600 at 0x7FF750D25AB0>\n",
            "<PIL.JpegImagePlugin.JpegImageFile image mode=RGB size=800x600 at 0x7FF750D25F60>\n",
            "<PIL.JpegImagePlugin.JpegImageFile image mode=RGB size=800x600 at 0x7FF750D25AB0>\n",
            "<PIL.JpegImagePlugin.JpegImageFile image mode=RGB size=800x600 at 0x7FF750D25F60>\n",
            "<PIL.JpegImagePlugin.JpegImageFile image mode=RGB size=800x600 at 0x7FF750D25AB0>\n",
            "<PIL.JpegImagePlugin.JpegImageFile image mode=RGB size=800x600 at 0x7FF750D269B0>\n",
            "<PIL.JpegImagePlugin.JpegImageFile image mode=RGB size=800x600 at 0x7FF750D26260>\n",
            "<PIL.JpegImagePlugin.JpegImageFile image mode=RGB size=800x600 at 0x7FF750D25AB0>\n",
            "<PIL.JpegImagePlugin.JpegImageFile image mode=RGB size=800x600 at 0x7FF750D26020>\n",
            "<PIL.JpegImagePlugin.JpegImageFile image mode=RGB size=800x600 at 0x7FF750D25B40>\n",
            "<PIL.JpegImagePlugin.JpegImageFile image mode=RGB size=800x600 at 0x7FF750D269B0>\n",
            "<PIL.JpegImagePlugin.JpegImageFile image mode=RGB size=800x600 at 0x7FF750D25870>\n",
            "<PIL.JpegImagePlugin.JpegImageFile image mode=RGB size=800x600 at 0x7FF750D269B0>\n"
          ]
        },
        {
          "output_type": "stream",
          "name": "stderr",
          "text": [
            " 14%|█▍        | 70/503 [00:00<00:05, 81.58it/s]"
          ]
        },
        {
          "output_type": "stream",
          "name": "stdout",
          "text": [
            "<PIL.JpegImagePlugin.JpegImageFile image mode=RGB size=800x600 at 0x7FF750D25F60>\n",
            "<PIL.JpegImagePlugin.JpegImageFile image mode=RGB size=800x600 at 0x7FF750D25870>\n",
            "<PIL.JpegImagePlugin.JpegImageFile image mode=RGB size=800x600 at 0x7FF750D25DE0>\n",
            "<PIL.JpegImagePlugin.JpegImageFile image mode=RGB size=800x600 at 0x7FF750D26020>\n",
            "<PIL.JpegImagePlugin.JpegImageFile image mode=RGB size=800x600 at 0x7FF75195CD30>\n",
            "<PIL.JpegImagePlugin.JpegImageFile image mode=RGB size=800x600 at 0x7FF750D25DE0>\n",
            "<PIL.JpegImagePlugin.JpegImageFile image mode=RGB size=800x600 at 0x7FF750D25DE0>\n",
            "<PIL.JpegImagePlugin.JpegImageFile image mode=RGB size=800x600 at 0x7FF750D269B0>\n",
            "<PIL.JpegImagePlugin.JpegImageFile image mode=RGB size=800x600 at 0x7FF750D25F60>\n",
            "<PIL.JpegImagePlugin.JpegImageFile image mode=RGB size=800x600 at 0x7FF750D266B0>\n",
            "<PIL.JpegImagePlugin.JpegImageFile image mode=RGB size=800x600 at 0x7FF750D25DE0>\n",
            "<PIL.JpegImagePlugin.JpegImageFile image mode=RGB size=800x600 at 0x7FF750D269B0>\n",
            "<PIL.JpegImagePlugin.JpegImageFile image mode=RGB size=800x600 at 0x7FF750D25F60>\n",
            "<PIL.JpegImagePlugin.JpegImageFile image mode=RGB size=800x600 at 0x7FF750D266B0>\n",
            "<PIL.JpegImagePlugin.JpegImageFile image mode=RGB size=800x600 at 0x7FF750D25DE0>\n",
            "<PIL.JpegImagePlugin.JpegImageFile image mode=RGB size=800x600 at 0x7FF750D269B0>\n",
            "<PIL.JpegImagePlugin.JpegImageFile image mode=RGB size=800x600 at 0x7FF75195CD30>\n",
            "<PIL.JpegImagePlugin.JpegImageFile image mode=RGB size=800x600 at 0x7FF750D266B0>\n",
            "<PIL.JpegImagePlugin.JpegImageFile image mode=RGB size=800x600 at 0x7FF750D25F60>\n",
            "<PIL.JpegImagePlugin.JpegImageFile image mode=RGB size=800x600 at 0x7FF750D269B0>\n"
          ]
        },
        {
          "output_type": "stream",
          "name": "stderr",
          "text": [
            " 18%|█▊        | 90/503 [00:01<00:04, 89.73it/s]"
          ]
        },
        {
          "output_type": "stream",
          "name": "stdout",
          "text": [
            "<PIL.JpegImagePlugin.JpegImageFile image mode=RGB size=800x600 at 0x7FF75195CD30>\n",
            "<PIL.JpegImagePlugin.JpegImageFile image mode=RGB size=800x600 at 0x7FF750D266B0>\n",
            "<PIL.JpegImagePlugin.JpegImageFile image mode=RGB size=800x600 at 0x7FF750D25DE0>\n",
            "<PIL.JpegImagePlugin.JpegImageFile image mode=RGB size=800x600 at 0x7FF750D266B0>\n",
            "<PIL.JpegImagePlugin.JpegImageFile image mode=RGB size=800x600 at 0x7FF750D25F60>\n",
            "<PIL.JpegImagePlugin.JpegImageFile image mode=RGB size=800x600 at 0x7FF750D26020>\n",
            "<PIL.JpegImagePlugin.JpegImageFile image mode=RGB size=800x600 at 0x7FF750D26020>\n",
            "<PIL.JpegImagePlugin.JpegImageFile image mode=RGB size=800x600 at 0x7FF750D25870>\n",
            "<PIL.JpegImagePlugin.JpegImageFile image mode=RGB size=800x600 at 0x7FF750D269B0>\n",
            "<PIL.JpegImagePlugin.JpegImageFile image mode=RGB size=800x600 at 0x7FF750D26020>\n",
            "<PIL.JpegImagePlugin.JpegImageFile image mode=RGB size=800x600 at 0x7FF750D266B0>\n",
            "<PIL.JpegImagePlugin.JpegImageFile image mode=RGB size=800x600 at 0x7FF750D269B0>\n",
            "<PIL.JpegImagePlugin.JpegImageFile image mode=RGB size=800x600 at 0x7FF750D25F60>\n",
            "<PIL.JpegImagePlugin.JpegImageFile image mode=RGB size=800x600 at 0x7FF750D266B0>\n",
            "<PIL.JpegImagePlugin.JpegImageFile image mode=RGB size=800x600 at 0x7FF750D269B0>\n",
            "<PIL.JpegImagePlugin.JpegImageFile image mode=RGB size=800x600 at 0x7FF750D26020>\n",
            "<PIL.JpegImagePlugin.JpegImageFile image mode=RGB size=800x600 at 0x7FF750D26020>\n",
            "<PIL.JpegImagePlugin.JpegImageFile image mode=RGB size=800x600 at 0x7FF750D25F60>\n",
            "<PIL.JpegImagePlugin.JpegImageFile image mode=RGB size=800x600 at 0x7FF750D269B0>\n",
            "<PIL.JpegImagePlugin.JpegImageFile image mode=RGB size=800x600 at 0x7FF750D25870>\n"
          ]
        },
        {
          "output_type": "stream",
          "name": "stderr",
          "text": [
            " 22%|██▏       | 110/503 [00:01<00:04, 93.72it/s]"
          ]
        },
        {
          "output_type": "stream",
          "name": "stdout",
          "text": [
            "<PIL.JpegImagePlugin.JpegImageFile image mode=RGB size=800x600 at 0x7FF750D26020>\n",
            "<PIL.JpegImagePlugin.JpegImageFile image mode=RGB size=800x600 at 0x7FF750D266B0>\n",
            "<PIL.JpegImagePlugin.JpegImageFile image mode=RGB size=800x600 at 0x7FF750D25F60>\n",
            "<PIL.JpegImagePlugin.JpegImageFile image mode=RGB size=800x600 at 0x7FF750D25870>\n",
            "<PIL.JpegImagePlugin.JpegImageFile image mode=RGB size=800x600 at 0x7FF750D25DE0>\n",
            "<PIL.JpegImagePlugin.JpegImageFile image mode=RGB size=800x600 at 0x7FF750D26020>\n",
            "<PIL.JpegImagePlugin.JpegImageFile image mode=RGB size=800x600 at 0x7FF750D26020>\n",
            "<PIL.JpegImagePlugin.JpegImageFile image mode=RGB size=800x600 at 0x7FF750D25870>\n",
            "<PIL.JpegImagePlugin.JpegImageFile image mode=RGB size=800x600 at 0x7FF750D25DE0>\n",
            "<PIL.JpegImagePlugin.JpegImageFile image mode=RGB size=800x600 at 0x7FF750D26020>\n",
            "<PIL.JpegImagePlugin.JpegImageFile image mode=RGB size=800x600 at 0x7FF750D269B0>\n",
            "<PIL.JpegImagePlugin.JpegImageFile image mode=RGB size=800x600 at 0x7FF750D25DE0>\n",
            "<PIL.JpegImagePlugin.JpegImageFile image mode=RGB size=800x600 at 0x7FF750D25870>\n",
            "<PIL.JpegImagePlugin.JpegImageFile image mode=RGB size=800x600 at 0x7FF750D269B0>\n",
            "<PIL.JpegImagePlugin.JpegImageFile image mode=RGB size=800x600 at 0x7FF750D26020>\n",
            "<PIL.JpegImagePlugin.JpegImageFile image mode=RGB size=800x600 at 0x7FF750D25870>\n",
            "<PIL.JpegImagePlugin.JpegImageFile image mode=RGB size=800x600 at 0x7FF750D25870>\n",
            "<PIL.JpegImagePlugin.JpegImageFile image mode=RGB size=800x600 at 0x7FF750D26020>\n",
            "<PIL.JpegImagePlugin.JpegImageFile image mode=RGB size=800x600 at 0x7FF750D25DE0>\n",
            "<PIL.JpegImagePlugin.JpegImageFile image mode=RGB size=800x600 at 0x7FF750D269B0>\n"
          ]
        },
        {
          "output_type": "stream",
          "name": "stderr",
          "text": [
            " 26%|██▌       | 131/503 [00:01<00:03, 94.81it/s]"
          ]
        },
        {
          "output_type": "stream",
          "name": "stdout",
          "text": [
            "<PIL.JpegImagePlugin.JpegImageFile image mode=RGB size=800x600 at 0x7FF750D25DE0>\n",
            "<PIL.JpegImagePlugin.JpegImageFile image mode=RGB size=800x600 at 0x7FF750D26020>\n",
            "<PIL.JpegImagePlugin.JpegImageFile image mode=RGB size=800x600 at 0x7FF750D266B0>\n",
            "<PIL.JpegImagePlugin.JpegImageFile image mode=RGB size=800x600 at 0x7FF750D25AB0>\n",
            "<PIL.JpegImagePlugin.JpegImageFile image mode=RGB size=800x600 at 0x7FF750D26260>\n",
            "<PIL.JpegImagePlugin.JpegImageFile image mode=RGB size=800x600 at 0x7FF750D269B0>\n",
            "<PIL.JpegImagePlugin.JpegImageFile image mode=RGB size=800x600 at 0x7FF750D25F60>\n",
            "<PIL.JpegImagePlugin.JpegImageFile image mode=RGB size=800x600 at 0x7FF750D26260>\n",
            "<PIL.JpegImagePlugin.JpegImageFile image mode=RGB size=800x600 at 0x7FF750D25F60>\n",
            "<PIL.JpegImagePlugin.JpegImageFile image mode=RGB size=800x600 at 0x7FF750D26260>\n",
            "<PIL.JpegImagePlugin.JpegImageFile image mode=RGB size=800x600 at 0x7FF750D25F60>\n",
            "<PIL.JpegImagePlugin.JpegImageFile image mode=RGB size=800x600 at 0x7FF750D26260>\n",
            "<PIL.JpegImagePlugin.JpegImageFile image mode=RGB size=800x600 at 0x7FF750D25F60>\n",
            "<PIL.JpegImagePlugin.JpegImageFile image mode=RGB size=800x600 at 0x7FF750D26260>\n",
            "<PIL.JpegImagePlugin.JpegImageFile image mode=RGB size=800x600 at 0x7FF750D25F60>\n",
            "<PIL.JpegImagePlugin.JpegImageFile image mode=RGB size=800x600 at 0x7FF750D25B40>\n",
            "<PIL.JpegImagePlugin.JpegImageFile image mode=RGB size=800x600 at 0x7FF750D25F60>\n",
            "<PIL.JpegImagePlugin.JpegImageFile image mode=RGB size=800x600 at 0x7FF750D26260>\n",
            "<PIL.JpegImagePlugin.JpegImageFile image mode=RGB size=800x600 at 0x7FF750D25B40>\n",
            "<PIL.JpegImagePlugin.JpegImageFile image mode=RGB size=800x600 at 0x7FF750D25AB0>\n"
          ]
        },
        {
          "output_type": "stream",
          "name": "stderr",
          "text": [
            " 30%|███       | 151/503 [00:01<00:03, 95.93it/s]"
          ]
        },
        {
          "output_type": "stream",
          "name": "stdout",
          "text": [
            "<PIL.JpegImagePlugin.JpegImageFile image mode=RGB size=800x600 at 0x7FF750D25F60>\n",
            "<PIL.JpegImagePlugin.JpegImageFile image mode=RGB size=800x600 at 0x7FF750D26260>\n",
            "<PIL.JpegImagePlugin.JpegImageFile image mode=RGB size=800x600 at 0x7FF750D25B40>\n",
            "<PIL.JpegImagePlugin.JpegImageFile image mode=RGB size=800x600 at 0x7FF750D25AB0>\n",
            "<PIL.JpegImagePlugin.JpegImageFile image mode=RGB size=800x600 at 0x7FF750D26020>\n",
            "<PIL.JpegImagePlugin.JpegImageFile image mode=RGB size=800x600 at 0x7FF750D26260>\n",
            "<PIL.JpegImagePlugin.JpegImageFile image mode=RGB size=800x600 at 0x7FF750D266B0>\n",
            "<PIL.JpegImagePlugin.JpegImageFile image mode=RGB size=800x600 at 0x7FF750D266B0>\n",
            "<PIL.JpegImagePlugin.JpegImageFile image mode=RGB size=800x600 at 0x7FF750D26020>\n",
            "<PIL.JpegImagePlugin.JpegImageFile image mode=RGB size=800x600 at 0x7FF750D26260>\n",
            "<PIL.JpegImagePlugin.JpegImageFile image mode=RGB size=800x600 at 0x7FF750D25B40>\n",
            "<PIL.JpegImagePlugin.JpegImageFile image mode=RGB size=800x600 at 0x7FF750D26020>\n",
            "<PIL.JpegImagePlugin.JpegImageFile image mode=RGB size=800x600 at 0x7FF750D25AB0>\n",
            "<PIL.JpegImagePlugin.JpegImageFile image mode=RGB size=800x600 at 0x7FF750D25B40>\n",
            "<PIL.JpegImagePlugin.JpegImageFile image mode=RGB size=800x600 at 0x7FF750D26020>\n",
            "<PIL.JpegImagePlugin.JpegImageFile image mode=RGB size=800x600 at 0x7FF750D25DE0>\n",
            "<PIL.JpegImagePlugin.JpegImageFile image mode=RGB size=800x600 at 0x7FF750D266B0>\n",
            "<PIL.JpegImagePlugin.JpegImageFile image mode=RGB size=800x600 at 0x7FF750D266B0>\n",
            "<PIL.JpegImagePlugin.JpegImageFile image mode=RGB size=800x600 at 0x7FF750D25B40>\n",
            "<PIL.JpegImagePlugin.JpegImageFile image mode=RGB size=800x600 at 0x7FF750D25DE0>\n"
          ]
        },
        {
          "output_type": "stream",
          "name": "stderr",
          "text": [
            " 34%|███▍      | 171/503 [00:02<00:03, 94.46it/s]"
          ]
        },
        {
          "output_type": "stream",
          "name": "stdout",
          "text": [
            "<PIL.JpegImagePlugin.JpegImageFile image mode=RGB size=800x600 at 0x7FF750D26020>\n",
            "<PIL.JpegImagePlugin.JpegImageFile image mode=RGB size=800x600 at 0x7FF750D269B0>\n",
            "<PIL.JpegImagePlugin.JpegImageFile image mode=RGB size=800x600 at 0x7FF750D25B40>\n",
            "<PIL.JpegImagePlugin.JpegImageFile image mode=RGB size=800x600 at 0x7FF750D25F60>\n",
            "<PIL.JpegImagePlugin.JpegImageFile image mode=RGB size=800x600 at 0x7FF750D269B0>\n",
            "<PIL.JpegImagePlugin.JpegImageFile image mode=RGB size=800x600 at 0x7FF750D26020>\n",
            "<PIL.JpegImagePlugin.JpegImageFile image mode=RGB size=800x600 at 0x7FF750D25B40>\n",
            "<PIL.JpegImagePlugin.JpegImageFile image mode=RGB size=800x600 at 0x7FF750D25B40>\n",
            "<PIL.JpegImagePlugin.JpegImageFile image mode=RGB size=800x600 at 0x7FF750D266B0>\n",
            "<PIL.JpegImagePlugin.JpegImageFile image mode=RGB size=800x600 at 0x7FF750D26020>\n",
            "<PIL.JpegImagePlugin.JpegImageFile image mode=RGB size=800x600 at 0x7FF750D269B0>\n",
            "<PIL.JpegImagePlugin.JpegImageFile image mode=RGB size=800x600 at 0x7FF750D266B0>\n",
            "<PIL.JpegImagePlugin.JpegImageFile image mode=RGB size=800x600 at 0x7FF750D25B40>\n",
            "<PIL.JpegImagePlugin.JpegImageFile image mode=RGB size=800x600 at 0x7FF750D269B0>\n",
            "<PIL.JpegImagePlugin.JpegImageFile image mode=RGB size=800x600 at 0x7FF750D25F60>\n",
            "<PIL.JpegImagePlugin.JpegImageFile image mode=RGB size=800x600 at 0x7FF750D25B40>\n",
            "<PIL.JpegImagePlugin.JpegImageFile image mode=RGB size=800x600 at 0x7FF750D269B0>\n",
            "<PIL.JpegImagePlugin.JpegImageFile image mode=RGB size=800x600 at 0x7FF750D269B0>\n",
            "<PIL.JpegImagePlugin.JpegImageFile image mode=RGB size=800x600 at 0x7FF750D26020>\n"
          ]
        },
        {
          "output_type": "stream",
          "name": "stderr",
          "text": [
            " 38%|███▊      | 192/503 [00:02<00:03, 96.60it/s]"
          ]
        },
        {
          "output_type": "stream",
          "name": "stdout",
          "text": [
            "<PIL.JpegImagePlugin.JpegImageFile image mode=RGB size=800x600 at 0x7FF750D269B0>\n",
            "<PIL.JpegImagePlugin.JpegImageFile image mode=RGB size=800x600 at 0x7FF750D266B0>\n",
            "<PIL.JpegImagePlugin.JpegImageFile image mode=RGB size=800x600 at 0x7FF750D25B40>\n",
            "<PIL.JpegImagePlugin.JpegImageFile image mode=RGB size=800x600 at 0x7FF750D25DE0>\n",
            "<PIL.JpegImagePlugin.JpegImageFile image mode=RGB size=800x600 at 0x7FF750D25F60>\n",
            "<PIL.JpegImagePlugin.JpegImageFile image mode=RGB size=800x600 at 0x7FF750D266B0>\n",
            "<PIL.JpegImagePlugin.JpegImageFile image mode=RGB size=800x600 at 0x7FF750D25B40>\n",
            "<PIL.JpegImagePlugin.JpegImageFile image mode=RGB size=800x600 at 0x7FF750D25DE0>\n",
            "<PIL.JpegImagePlugin.JpegImageFile image mode=RGB size=800x600 at 0x7FF750D25DE0>\n",
            "<PIL.JpegImagePlugin.JpegImageFile image mode=RGB size=800x600 at 0x7FF750D266B0>\n",
            "<PIL.JpegImagePlugin.JpegImageFile image mode=RGB size=800x600 at 0x7FF750D25B40>\n",
            "<PIL.JpegImagePlugin.JpegImageFile image mode=RGB size=800x600 at 0x7FF750D269B0>\n",
            "<PIL.JpegImagePlugin.JpegImageFile image mode=RGB size=800x600 at 0x7FF750D25DE0>\n",
            "<PIL.JpegImagePlugin.JpegImageFile image mode=RGB size=800x600 at 0x7FF750D25B40>\n",
            "<PIL.JpegImagePlugin.JpegImageFile image mode=RGB size=800x600 at 0x7FF750D266B0>\n",
            "<PIL.JpegImagePlugin.JpegImageFile image mode=RGB size=800x600 at 0x7FF750D25DE0>\n",
            "<PIL.JpegImagePlugin.JpegImageFile image mode=RGB size=800x600 at 0x7FF750D269B0>\n",
            "<PIL.JpegImagePlugin.JpegImageFile image mode=RGB size=800x600 at 0x7FF750D266B0>\n",
            "<PIL.JpegImagePlugin.JpegImageFile image mode=RGB size=800x600 at 0x7FF750D25B40>\n",
            "<PIL.JpegImagePlugin.JpegImageFile image mode=RGB size=800x600 at 0x7FF750D25B40>\n"
          ]
        },
        {
          "output_type": "stream",
          "name": "stderr",
          "text": [
            "\r 40%|████      | 202/503 [00:02<00:03, 88.79it/s]"
          ]
        },
        {
          "output_type": "stream",
          "name": "stdout",
          "text": [
            "<PIL.JpegImagePlugin.JpegImageFile image mode=RGB size=800x600 at 0x7FF750D269B0>\n",
            "<PIL.JpegImagePlugin.JpegImageFile image mode=RGB size=800x600 at 0x7FF750D25DE0>\n",
            "<PIL.JpegImagePlugin.JpegImageFile image mode=RGB size=800x600 at 0x7FF750D266B0>\n",
            "<PIL.JpegImagePlugin.JpegImageFile image mode=RGB size=800x600 at 0x7FF750D26020>\n",
            "<PIL.JpegImagePlugin.JpegImageFile image mode=RGB size=800x600 at 0x7FF750D269B0>\n",
            "<PIL.JpegImagePlugin.JpegImageFile image mode=RGB size=800x600 at 0x7FF750D25DE0>\n",
            "<PIL.JpegImagePlugin.JpegImageFile image mode=RGB size=800x600 at 0x7FF750D266B0>\n",
            "<PIL.JpegImagePlugin.JpegImageFile image mode=RGB size=800x600 at 0x7FF750D26020>\n",
            "<PIL.JpegImagePlugin.JpegImageFile image mode=RGB size=800x600 at 0x7FF750D25AB0>\n",
            "<PIL.JpegImagePlugin.JpegImageFile image mode=RGB size=800x600 at 0x7FF750D25AB0>\n",
            "<PIL.JpegImagePlugin.JpegImageFile image mode=RGB size=800x600 at 0x7FF750D25F60>\n",
            "<PIL.JpegImagePlugin.JpegImageFile image mode=RGB size=800x600 at 0x7FF750D25AB0>\n",
            "<PIL.JpegImagePlugin.JpegImageFile image mode=RGB size=800x600 at 0x7FF750D25F60>\n",
            "<PIL.JpegImagePlugin.JpegImageFile image mode=RGB size=800x600 at 0x7FF750D25AB0>\n",
            "<PIL.JpegImagePlugin.JpegImageFile image mode=RGB size=800x600 at 0x7FF750D25870>\n"
          ]
        },
        {
          "output_type": "stream",
          "name": "stderr",
          "text": [
            " 44%|████▎     | 220/503 [00:02<00:03, 76.69it/s]"
          ]
        },
        {
          "output_type": "stream",
          "name": "stdout",
          "text": [
            "<PIL.JpegImagePlugin.JpegImageFile image mode=RGB size=800x600 at 0x7FF750D26020>\n",
            "<PIL.JpegImagePlugin.JpegImageFile image mode=RGB size=800x600 at 0x7FF750D25870>\n",
            "<PIL.JpegImagePlugin.JpegImageFile image mode=RGB size=800x600 at 0x7FF750D26020>\n",
            "<PIL.JpegImagePlugin.JpegImageFile image mode=RGB size=800x600 at 0x7FF750D26020>\n",
            "<PIL.JpegImagePlugin.JpegImageFile image mode=RGB size=800x600 at 0x7FF750D25870>\n",
            "<PIL.JpegImagePlugin.JpegImageFile image mode=RGB size=800x600 at 0x7FF750D26020>\n",
            "<PIL.JpegImagePlugin.JpegImageFile image mode=RGB size=800x600 at 0x7FF750D25870>\n",
            "<PIL.JpegImagePlugin.JpegImageFile image mode=RGB size=800x600 at 0x7FF750D26020>\n",
            "<PIL.JpegImagePlugin.JpegImageFile image mode=RGB size=800x600 at 0x7FF750D25870>\n",
            "<PIL.JpegImagePlugin.JpegImageFile image mode=RGB size=800x600 at 0x7FF750D26020>\n",
            "<PIL.JpegImagePlugin.JpegImageFile image mode=RGB size=800x600 at 0x7FF750D25870>\n",
            "<PIL.JpegImagePlugin.JpegImageFile image mode=RGB size=800x600 at 0x7FF750D26020>\n",
            "<PIL.JpegImagePlugin.JpegImageFile image mode=RGB size=800x600 at 0x7FF750D25B40>\n",
            "<PIL.JpegImagePlugin.JpegImageFile image mode=RGB size=800x600 at 0x7FF750D25870>\n"
          ]
        },
        {
          "output_type": "stream",
          "name": "stderr",
          "text": [
            "\r 45%|████▌     | 228/503 [00:02<00:03, 73.73it/s]"
          ]
        },
        {
          "output_type": "stream",
          "name": "stdout",
          "text": [
            "<PIL.JpegImagePlugin.JpegImageFile image mode=RGB size=800x600 at 0x7FF750D25B40>\n",
            "<PIL.JpegImagePlugin.JpegImageFile image mode=RGB size=800x600 at 0x7FF750D25870>\n",
            "<PIL.JpegImagePlugin.JpegImageFile image mode=RGB size=800x600 at 0x7FF750D25B40>\n",
            "<PIL.JpegImagePlugin.JpegImageFile image mode=RGB size=800x600 at 0x7FF750D25870>\n",
            "<PIL.JpegImagePlugin.JpegImageFile image mode=RGB size=800x600 at 0x7FF750D25B40>\n",
            "<PIL.JpegImagePlugin.JpegImageFile image mode=RGB size=800x600 at 0x7FF750D25870>\n",
            "<PIL.JpegImagePlugin.JpegImageFile image mode=RGB size=800x600 at 0x7FF750D25F60>\n",
            "<PIL.JpegImagePlugin.JpegImageFile image mode=RGB size=800x600 at 0x7FF750D25B40>\n",
            "<PIL.JpegImagePlugin.JpegImageFile image mode=RGB size=800x600 at 0x7FF750D25F60>\n",
            "<PIL.JpegImagePlugin.JpegImageFile image mode=RGB size=800x600 at 0x7FF750D25B40>\n",
            "<PIL.JpegImagePlugin.JpegImageFile image mode=RGB size=800x600 at 0x7FF750D25F60>\n",
            "<PIL.JpegImagePlugin.JpegImageFile image mode=RGB size=800x600 at 0x7FF750D25B40>\n",
            "<PIL.JpegImagePlugin.JpegImageFile image mode=RGB size=800x600 at 0x7FF750D25870>\n",
            "<PIL.JpegImagePlugin.JpegImageFile image mode=RGB size=800x600 at 0x7FF750D26020>\n"
          ]
        },
        {
          "output_type": "stream",
          "name": "stderr",
          "text": [
            " 49%|████▊     | 244/503 [00:03<00:03, 67.88it/s]"
          ]
        },
        {
          "output_type": "stream",
          "name": "stdout",
          "text": [
            "<PIL.JpegImagePlugin.JpegImageFile image mode=RGB size=800x600 at 0x7FF750C1FF70>\n",
            "<PIL.JpegImagePlugin.JpegImageFile image mode=RGB size=800x600 at 0x7FF750C1FFA0>\n",
            "<PIL.JpegImagePlugin.JpegImageFile image mode=RGB size=800x600 at 0x7FF750C1FF70>\n",
            "<PIL.JpegImagePlugin.JpegImageFile image mode=RGB size=800x600 at 0x7FF750C1FFA0>\n",
            "<PIL.JpegImagePlugin.JpegImageFile image mode=RGB size=800x600 at 0x7FF750C1FF70>\n",
            "<PIL.JpegImagePlugin.JpegImageFile image mode=RGB size=800x600 at 0x7FF750C1FFA0>\n",
            "<PIL.JpegImagePlugin.JpegImageFile image mode=RGB size=800x600 at 0x7FF750C1FF70>\n",
            "<PIL.JpegImagePlugin.JpegImageFile image mode=RGB size=800x600 at 0x7FF750C1FFA0>\n",
            "<PIL.JpegImagePlugin.JpegImageFile image mode=RGB size=800x600 at 0x7FF750C1FD90>\n",
            "<PIL.JpegImagePlugin.JpegImageFile image mode=RGB size=800x600 at 0x7FF750C1F940>\n",
            "<PIL.JpegImagePlugin.JpegImageFile image mode=RGB size=800x600 at 0x7FF75195CD30>\n",
            "<PIL.JpegImagePlugin.JpegImageFile image mode=RGB size=800x600 at 0x7FF750C1FCA0>\n",
            "<PIL.JpegImagePlugin.JpegImageFile image mode=RGB size=800x600 at 0x7FF750C1FF70>\n"
          ]
        },
        {
          "output_type": "stream",
          "name": "stderr",
          "text": [
            " 51%|█████▏    | 258/503 [00:03<00:03, 65.40it/s]"
          ]
        },
        {
          "output_type": "stream",
          "name": "stdout",
          "text": [
            "<PIL.JpegImagePlugin.JpegImageFile image mode=RGB size=800x600 at 0x7FF750D25870>\n",
            "<PIL.JpegImagePlugin.JpegImageFile image mode=RGB size=800x600 at 0x7FF750D25F60>\n",
            "<PIL.JpegImagePlugin.JpegImageFile image mode=RGB size=800x600 at 0x7FF750C1FFA0>\n",
            "<PIL.JpegImagePlugin.JpegImageFile image mode=RGB size=800x600 at 0x7FF750C1FF70>\n",
            "<PIL.JpegImagePlugin.JpegImageFile image mode=RGB size=800x600 at 0x7FF750C1FCA0>\n",
            "<PIL.JpegImagePlugin.JpegImageFile image mode=RGB size=800x600 at 0x7FF750C1FFA0>\n",
            "<PIL.JpegImagePlugin.JpegImageFile image mode=RGB size=800x600 at 0x7FF750C1FF70>\n",
            "<PIL.JpegImagePlugin.JpegImageFile image mode=RGB size=800x600 at 0x7FF750C1FCA0>\n",
            "<PIL.JpegImagePlugin.JpegImageFile image mode=RGB size=800x600 at 0x7FF75195CD30>\n",
            "<PIL.JpegImagePlugin.JpegImageFile image mode=RGB size=800x600 at 0x7FF750D25B40>\n",
            "<PIL.JpegImagePlugin.JpegImageFile image mode=RGB size=800x600 at 0x7FF750D25F60>\n",
            "<PIL.JpegImagePlugin.JpegImageFile image mode=RGB size=800x600 at 0x7FF750D26020>\n",
            "<PIL.JpegImagePlugin.JpegImageFile image mode=RGB size=800x600 at 0x7FF750D25870>\n",
            "<PIL.JpegImagePlugin.JpegImageFile image mode=RGB size=800x600 at 0x7FF750D25F60>\n"
          ]
        },
        {
          "output_type": "stream",
          "name": "stderr",
          "text": [
            " 54%|█████▍    | 272/503 [00:03<00:03, 65.64it/s]"
          ]
        },
        {
          "output_type": "stream",
          "name": "stdout",
          "text": [
            "<PIL.JpegImagePlugin.JpegImageFile image mode=RGB size=800x600 at 0x7FF750C1FCA0>\n",
            "<PIL.JpegImagePlugin.JpegImageFile image mode=RGB size=800x600 at 0x7FF750C1FFA0>\n",
            "<PIL.JpegImagePlugin.JpegImageFile image mode=RGB size=800x600 at 0x7FF750D25870>\n",
            "<PIL.JpegImagePlugin.JpegImageFile image mode=RGB size=800x600 at 0x7FF750D25F60>\n",
            "<PIL.JpegImagePlugin.JpegImageFile image mode=RGB size=800x600 at 0x7FF750D25DE0>\n",
            "<PIL.JpegImagePlugin.JpegImageFile image mode=RGB size=800x600 at 0x7FF750D25870>\n",
            "<PIL.JpegImagePlugin.JpegImageFile image mode=RGB size=800x600 at 0x7FF750D25F60>\n",
            "<PIL.JpegImagePlugin.JpegImageFile image mode=RGB size=800x600 at 0x7FF750D25DE0>\n",
            "<PIL.JpegImagePlugin.JpegImageFile image mode=RGB size=800x600 at 0x7FF750D25870>\n",
            "<PIL.JpegImagePlugin.JpegImageFile image mode=RGB size=800x600 at 0x7FF750C1F940>\n",
            "<PIL.JpegImagePlugin.JpegImageFile image mode=RGB size=800x600 at 0x7FF750C1FD90>\n",
            "<PIL.JpegImagePlugin.JpegImageFile image mode=RGB size=800x600 at 0x7FF750C1FCA0>\n",
            "<PIL.JpegImagePlugin.JpegImageFile image mode=RGB size=800x600 at 0x7FF750C1F940>\n",
            "<PIL.JpegImagePlugin.JpegImageFile image mode=RGB size=800x600 at 0x7FF750C1FD90>"
          ]
        },
        {
          "output_type": "stream",
          "name": "stderr",
          "text": [
            " 57%|█████▋    | 286/503 [00:03<00:03, 64.47it/s]"
          ]
        },
        {
          "output_type": "stream",
          "name": "stdout",
          "text": [
            "\n",
            "<PIL.JpegImagePlugin.JpegImageFile image mode=RGB size=800x600 at 0x7FF750D25F60>\n",
            "<PIL.JpegImagePlugin.JpegImageFile image mode=RGB size=800x600 at 0x7FF750D266B0>\n",
            "<PIL.JpegImagePlugin.JpegImageFile image mode=RGB size=800x600 at 0x7FF750D25AB0>\n",
            "<PIL.JpegImagePlugin.JpegImageFile image mode=RGB size=800x600 at 0x7FF750D25F60>\n",
            "<PIL.JpegImagePlugin.JpegImageFile image mode=RGB size=800x600 at 0x7FF750D25AB0>\n",
            "<PIL.JpegImagePlugin.JpegImageFile image mode=RGB size=800x600 at 0x7FF750D25F60>\n",
            "<PIL.JpegImagePlugin.JpegImageFile image mode=RGB size=800x600 at 0x7FF750D25AB0>\n",
            "<PIL.JpegImagePlugin.JpegImageFile image mode=RGB size=800x600 at 0x7FF750D25DE0>\n",
            "<PIL.JpegImagePlugin.JpegImageFile image mode=RGB size=800x600 at 0x7FF750D266B0>\n",
            "<PIL.JpegImagePlugin.JpegImageFile image mode=RGB size=800x600 at 0x7FF750D25870>\n",
            "<PIL.JpegImagePlugin.JpegImageFile image mode=RGB size=800x600 at 0x7FF750D25DE0>\n",
            "<PIL.JpegImagePlugin.JpegImageFile image mode=RGB size=800x600 at 0x7FF750D25870>\n"
          ]
        },
        {
          "output_type": "stream",
          "name": "stderr",
          "text": [
            " 60%|█████▉    | 300/503 [00:03<00:03, 63.70it/s]"
          ]
        },
        {
          "output_type": "stream",
          "name": "stdout",
          "text": [
            "<PIL.JpegImagePlugin.JpegImageFile image mode=RGB size=800x600 at 0x7FF750C1FF70>\n",
            "<PIL.JpegImagePlugin.JpegImageFile image mode=RGB size=800x600 at 0x7FF750C1FD90>\n",
            "<PIL.JpegImagePlugin.JpegImageFile image mode=RGB size=800x600 at 0x7FF750C1FFA0>\n",
            "<PIL.JpegImagePlugin.JpegImageFile image mode=RGB size=800x600 at 0x7FF750C1FF70>\n",
            "<PIL.JpegImagePlugin.JpegImageFile image mode=RGB size=800x600 at 0x7FF750D25F60>\n",
            "<PIL.JpegImagePlugin.JpegImageFile image mode=RGB size=800x600 at 0x7FF750D25870>\n",
            "<PIL.JpegImagePlugin.JpegImageFile image mode=RGB size=800x600 at 0x7FF750D25DE0>\n",
            "<PIL.JpegImagePlugin.JpegImageFile image mode=RGB size=800x600 at 0x7FF750D25F60>\n",
            "<PIL.JpegImagePlugin.JpegImageFile image mode=RGB size=800x600 at 0x7FF750D25B40>\n",
            "<PIL.JpegImagePlugin.JpegImageFile image mode=RGB size=800x600 at 0x7FF750D25870>\n",
            "<PIL.JpegImagePlugin.JpegImageFile image mode=RGB size=800x600 at 0x7FF750D25AB0>\n",
            "<PIL.JpegImagePlugin.JpegImageFile image mode=RGB size=800x600 at 0x7FF750D26020>\n",
            "<PIL.JpegImagePlugin.JpegImageFile image mode=RGB size=800x600 at 0x7FF750D26020>\n"
          ]
        },
        {
          "output_type": "stream",
          "name": "stderr",
          "text": [
            " 62%|██████▏   | 314/503 [00:04<00:03, 62.73it/s]"
          ]
        },
        {
          "output_type": "stream",
          "name": "stdout",
          "text": [
            "<PIL.JpegImagePlugin.JpegImageFile image mode=RGB size=800x600 at 0x7FF750D25AB0>\n",
            "<PIL.JpegImagePlugin.JpegImageFile image mode=RGB size=800x600 at 0x7FF750D25B40>\n",
            "<PIL.JpegImagePlugin.JpegImageFile image mode=RGB size=800x600 at 0x7FF750D25870>\n",
            "<PIL.JpegImagePlugin.JpegImageFile image mode=RGB size=800x600 at 0x7FF750D26020>\n",
            "<PIL.JpegImagePlugin.JpegImageFile image mode=RGB size=800x600 at 0x7FF750D25B40>\n",
            "<PIL.JpegImagePlugin.JpegImageFile image mode=RGB size=800x600 at 0x7FF750D25AB0>\n",
            "<PIL.JpegImagePlugin.JpegImageFile image mode=RGB size=800x600 at 0x7FF750D25AB0>\n",
            "<PIL.JpegImagePlugin.JpegImageFile image mode=RGB size=800x600 at 0x7FF750C1FD90>\n",
            "<PIL.JpegImagePlugin.JpegImageFile image mode=RGB size=800x600 at 0x7FF750C1F940>\n",
            "<PIL.JpegImagePlugin.JpegImageFile image mode=RGB size=800x600 at 0x7FF750D26020>\n",
            "<PIL.JpegImagePlugin.JpegImageFile image mode=RGB size=800x600 at 0x7FF750D25870>\n",
            "<PIL.JpegImagePlugin.JpegImageFile image mode=RGB size=800x600 at 0x7FF750D25DE0>\n",
            "<PIL.JpegImagePlugin.JpegImageFile image mode=RGB size=800x600 at 0x7FF750C1FF70>\n"
          ]
        },
        {
          "output_type": "stream",
          "name": "stderr",
          "text": [
            " 65%|██████▌   | 328/503 [00:04<00:02, 64.68it/s]"
          ]
        },
        {
          "output_type": "stream",
          "name": "stdout",
          "text": [
            "<PIL.JpegImagePlugin.JpegImageFile image mode=RGB size=800x600 at 0x7FF750D25870>\n",
            "<PIL.JpegImagePlugin.JpegImageFile image mode=RGB size=800x600 at 0x7FF750D25F60>\n",
            "<PIL.JpegImagePlugin.JpegImageFile image mode=RGB size=800x600 at 0x7FF750D25DE0>\n",
            "<PIL.JpegImagePlugin.JpegImageFile image mode=RGB size=800x600 at 0x7FF750D25870>\n",
            "<PIL.JpegImagePlugin.JpegImageFile image mode=RGB size=800x600 at 0x7FF750D25F60>\n",
            "<PIL.JpegImagePlugin.JpegImageFile image mode=RGB size=800x600 at 0x7FF75195CD30>\n",
            "<PIL.JpegImagePlugin.JpegImageFile image mode=RGB size=800x600 at 0x7FF750C1F940>\n",
            "<PIL.JpegImagePlugin.JpegImageFile image mode=RGB size=800x600 at 0x7FF750C1FF70>\n",
            "<PIL.JpegImagePlugin.JpegImageFile image mode=RGB size=800x600 at 0x7FF750C1FFA0>\n",
            "<PIL.JpegImagePlugin.JpegImageFile image mode=RGB size=800x600 at 0x7FF750C1F940>\n",
            "<PIL.JpegImagePlugin.JpegImageFile image mode=RGB size=800x600 at 0x7FF750C1FF70>\n",
            "<PIL.JpegImagePlugin.JpegImageFile image mode=RGB size=800x600 at 0x7FF750C1FFA0>\n",
            "<PIL.JpegImagePlugin.JpegImageFile image mode=RGB size=800x600 at 0x7FF750C1F940>\n",
            "<PIL.JpegImagePlugin.JpegImageFile image mode=RGB size=800x600 at 0x7FF750C1FD90>\n"
          ]
        },
        {
          "output_type": "stream",
          "name": "stderr",
          "text": [
            " 68%|██████▊   | 342/503 [00:04<00:02, 65.31it/s]"
          ]
        },
        {
          "output_type": "stream",
          "name": "stdout",
          "text": [
            "<PIL.JpegImagePlugin.JpegImageFile image mode=RGB size=800x600 at 0x7FF750D26020>\n",
            "<PIL.JpegImagePlugin.JpegImageFile image mode=RGB size=800x600 at 0x7FF750D25AB0>\n",
            "<PIL.JpegImagePlugin.JpegImageFile image mode=RGB size=800x600 at 0x7FF750D26020>\n",
            "<PIL.JpegImagePlugin.JpegImageFile image mode=RGB size=800x600 at 0x7FF750D25AB0>\n",
            "<PIL.JpegImagePlugin.JpegImageFile image mode=RGB size=800x600 at 0x7FF750D26020>\n",
            "<PIL.JpegImagePlugin.JpegImageFile image mode=RGB size=800x600 at 0x7FF750D25AB0>\n",
            "<PIL.JpegImagePlugin.JpegImageFile image mode=RGB size=800x600 at 0x7FF750D25AB0>\n",
            "<PIL.JpegImagePlugin.JpegImageFile image mode=RGB size=800x600 at 0x7FF750D266B0>\n",
            "<PIL.JpegImagePlugin.JpegImageFile image mode=RGB size=800x600 at 0x7FF750D25B40>\n",
            "<PIL.JpegImagePlugin.JpegImageFile image mode=RGB size=800x600 at 0x7FF750D266B0>\n",
            "<PIL.JpegImagePlugin.JpegImageFile image mode=RGB size=800x600 at 0x7FF750D25B40>\n",
            "<PIL.JpegImagePlugin.JpegImageFile image mode=RGB size=800x600 at 0x7FF750D266B0>\n",
            "<PIL.JpegImagePlugin.JpegImageFile image mode=RGB size=800x600 at 0x7FF750D25B40>\n",
            "<PIL.JpegImagePlugin.JpegImageFile image mode=RGB size=800x600 at 0x7FF750D25B40>\n"
          ]
        },
        {
          "output_type": "stream",
          "name": "stderr",
          "text": [
            " 71%|███████   | 356/503 [00:04<00:02, 65.96it/s]"
          ]
        },
        {
          "output_type": "stream",
          "name": "stdout",
          "text": [
            "<PIL.JpegImagePlugin.JpegImageFile image mode=RGB size=800x600 at 0x7FF750D25F60>\n",
            "<PIL.JpegImagePlugin.JpegImageFile image mode=RGB size=800x600 at 0x7FF750D266B0>\n",
            "<PIL.JpegImagePlugin.JpegImageFile image mode=RGB size=800x600 at 0x7FF750D25870>\n",
            "<PIL.JpegImagePlugin.JpegImageFile image mode=RGB size=800x600 at 0x7FF750D25B40>\n",
            "<PIL.JpegImagePlugin.JpegImageFile image mode=RGB size=800x600 at 0x7FF750D25F60>\n",
            "<PIL.JpegImagePlugin.JpegImageFile image mode=RGB size=800x600 at 0x7FF750D266B0>\n",
            "<PIL.JpegImagePlugin.JpegImageFile image mode=RGB size=800x600 at 0x7FF750D25AB0>\n",
            "<PIL.JpegImagePlugin.JpegImageFile image mode=RGB size=800x600 at 0x7FF750D25AB0>\n",
            "<PIL.JpegImagePlugin.JpegImageFile image mode=RGB size=800x600 at 0x7FF750D25AB0>\n",
            "<PIL.JpegImagePlugin.JpegImageFile image mode=RGB size=800x600 at 0x7FF750D25AB0>\n",
            "<PIL.JpegImagePlugin.JpegImageFile image mode=RGB size=800x600 at 0x7FF750D25AB0>\n",
            "<PIL.JpegImagePlugin.JpegImageFile image mode=RGB size=800x600 at 0x7FF750D25AB0>\n",
            "<PIL.JpegImagePlugin.JpegImageFile image mode=RGB size=800x600 at 0x7FF750D25AB0>\n",
            "<PIL.JpegImagePlugin.JpegImageFile image mode=RGB size=800x600 at 0x7FF750D25AB0>\n"
          ]
        },
        {
          "output_type": "stream",
          "name": "stderr",
          "text": [
            "\r 72%|███████▏  | 363/503 [00:04<00:02, 63.30it/s]"
          ]
        },
        {
          "output_type": "stream",
          "name": "stdout",
          "text": [
            "<PIL.JpegImagePlugin.JpegImageFile image mode=RGB size=800x600 at 0x7FF750D25AB0>\n",
            "<PIL.JpegImagePlugin.JpegImageFile image mode=RGB size=800x600 at 0x7FF750C1FD90>\n",
            "<PIL.JpegImagePlugin.JpegImageFile image mode=RGB size=800x600 at 0x7FF750C1F940>\n",
            "<PIL.JpegImagePlugin.JpegImageFile image mode=RGB size=800x600 at 0x7FF750C1FF70>\n",
            "<PIL.JpegImagePlugin.JpegImageFile image mode=RGB size=800x600 at 0x7FF750C1FD90>\n",
            "<PIL.JpegImagePlugin.JpegImageFile image mode=RGB size=800x600 at 0x7FF750D25870>\n",
            "<PIL.JpegImagePlugin.JpegImageFile image mode=RGB size=800x600 at 0x7FF750D266B0>\n",
            "<PIL.JpegImagePlugin.JpegImageFile image mode=RGB size=800x600 at 0x7FF750D266B0>\n",
            "<PIL.JpegImagePlugin.JpegImageFile image mode=RGB size=800x600 at 0x7FF750D266B0>\n",
            "<PIL.JpegImagePlugin.JpegImageFile image mode=RGB size=800x600 at 0x7FF750D266B0>\n",
            "<PIL.JpegImagePlugin.JpegImageFile image mode=RGB size=800x600 at 0x7FF750D266B0>\n",
            "<PIL.JpegImagePlugin.JpegImageFile image mode=RGB size=800x600 at 0x7FF750D266B0>\n",
            "<PIL.JpegImagePlugin.JpegImageFile image mode=RGB size=800x600 at 0x7FF750D266B0>\n"
          ]
        },
        {
          "output_type": "stream",
          "name": "stderr",
          "text": [
            " 75%|███████▍  | 377/503 [00:05<00:01, 63.97it/s]"
          ]
        },
        {
          "output_type": "stream",
          "name": "stdout",
          "text": [
            "<PIL.JpegImagePlugin.JpegImageFile image mode=RGB size=800x600 at 0x7FF750D26260>\n",
            "<PIL.JpegImagePlugin.JpegImageFile image mode=RGB size=800x600 at 0x7FF750D25AB0>\n",
            "<PIL.JpegImagePlugin.JpegImageFile image mode=RGB size=800x600 at 0x7FF750D266B0>\n",
            "<PIL.JpegImagePlugin.JpegImageFile image mode=RGB size=800x600 at 0x7FF750D25F60>\n",
            "<PIL.JpegImagePlugin.JpegImageFile image mode=RGB size=800x600 at 0x7FF750D26260>\n",
            "<PIL.JpegImagePlugin.JpegImageFile image mode=RGB size=800x600 at 0x7FF750C1FD90>\n",
            "<PIL.JpegImagePlugin.JpegImageFile image mode=RGB size=800x600 at 0x7FF750C1FD90>\n",
            "<PIL.JpegImagePlugin.JpegImageFile image mode=RGB size=800x600 at 0x7FF75195DAE0>\n",
            "<PIL.JpegImagePlugin.JpegImageFile image mode=RGB size=800x600 at 0x7FF75195CD30>\n",
            "<PIL.JpegImagePlugin.JpegImageFile image mode=RGB size=800x600 at 0x7FF75195DAE0>\n",
            "<PIL.JpegImagePlugin.JpegImageFile image mode=RGB size=800x600 at 0x7FF75195CD30>\n",
            "<PIL.JpegImagePlugin.JpegImageFile image mode=RGB size=800x600 at 0x7FF75195DAE0>\n",
            "<PIL.JpegImagePlugin.JpegImageFile image mode=RGB size=800x600 at 0x7FF75195CD30>\n",
            "<PIL.JpegImagePlugin.JpegImageFile image mode=RGB size=800x600 at 0x7FF75195DAE0>\n"
          ]
        },
        {
          "output_type": "stream",
          "name": "stderr",
          "text": [
            " 78%|███████▊  | 391/503 [00:05<00:01, 65.71it/s]"
          ]
        },
        {
          "output_type": "stream",
          "name": "stdout",
          "text": [
            "<PIL.JpegImagePlugin.JpegImageFile image mode=RGB size=800x600 at 0x7FF750C1FF70>\n",
            "<PIL.JpegImagePlugin.JpegImageFile image mode=RGB size=800x600 at 0x7FF750C1F940>\n",
            "<PIL.JpegImagePlugin.JpegImageFile image mode=RGB size=800x600 at 0x7FF750C1FD90>\n",
            "<PIL.JpegImagePlugin.JpegImageFile image mode=RGB size=800x600 at 0x7FF750C1FF70>\n",
            "<PIL.JpegImagePlugin.JpegImageFile image mode=RGB size=800x600 at 0x7FF750C1F940>\n",
            "<PIL.JpegImagePlugin.JpegImageFile image mode=RGB size=800x600 at 0x7FF750C1FCA0>\n",
            "<PIL.JpegImagePlugin.JpegImageFile image mode=RGB size=800x600 at 0x7FF750C1FD90>\n",
            "<PIL.JpegImagePlugin.JpegImageFile image mode=RGB size=800x600 at 0x7FF750C1FD90>\n",
            "<PIL.JpegImagePlugin.JpegImageFile image mode=RGB size=800x600 at 0x7FF750C1FD90>\n",
            "<PIL.JpegImagePlugin.JpegImageFile image mode=RGB size=800x600 at 0x7FF750C1FD90>\n",
            "<PIL.JpegImagePlugin.JpegImageFile image mode=RGB size=800x600 at 0x7FF750D26020>\n",
            "<PIL.JpegImagePlugin.JpegImageFile image mode=RGB size=800x600 at 0x7FF750D26260>\n",
            "<PIL.JpegImagePlugin.JpegImageFile image mode=RGB size=800x600 at 0x7FF750D26020>\n"
          ]
        },
        {
          "output_type": "stream",
          "name": "stderr",
          "text": [
            " 81%|████████  | 405/503 [00:05<00:01, 63.97it/s]"
          ]
        },
        {
          "output_type": "stream",
          "name": "stdout",
          "text": [
            "<PIL.JpegImagePlugin.JpegImageFile image mode=RGB size=800x600 at 0x7FF750D26020>\n",
            "<PIL.JpegImagePlugin.JpegImageFile image mode=RGB size=800x600 at 0x7FF750D26020>\n",
            "<PIL.JpegImagePlugin.JpegImageFile image mode=RGB size=800x600 at 0x7FF750D26020>\n",
            "<PIL.JpegImagePlugin.JpegImageFile image mode=RGB size=800x600 at 0x7FF75195CD30>\n",
            "<PIL.JpegImagePlugin.JpegImageFile image mode=RGB size=800x600 at 0x7FF75195DAE0>\n",
            "<PIL.JpegImagePlugin.JpegImageFile image mode=RGB size=800x600 at 0x7FF75195CD30>\n",
            "<PIL.JpegImagePlugin.JpegImageFile image mode=RGB size=800x600 at 0x7FF75195DAE0>\n",
            "<PIL.JpegImagePlugin.JpegImageFile image mode=RGB size=800x600 at 0x7FF750C1FD90>\n",
            "<PIL.JpegImagePlugin.JpegImageFile image mode=RGB size=800x600 at 0x7FF75195CD30>\n",
            "<PIL.JpegImagePlugin.JpegImageFile image mode=RGB size=800x600 at 0x7FF75195DAE0>\n",
            "<PIL.JpegImagePlugin.JpegImageFile image mode=RGB size=800x600 at 0x7FF75195CD30>\n",
            "<PIL.JpegImagePlugin.JpegImageFile image mode=RGB size=800x600 at 0x7FF75195DAE0>\n",
            "<PIL.JpegImagePlugin.JpegImageFile image mode=RGB size=800x600 at 0x7FF75195CD30>\n",
            "<PIL.JpegImagePlugin.JpegImageFile image mode=RGB size=800x600 at 0x7FF75195DAE0>\n"
          ]
        },
        {
          "output_type": "stream",
          "name": "stderr",
          "text": [
            " 83%|████████▎ | 419/503 [00:05<00:01, 64.39it/s]"
          ]
        },
        {
          "output_type": "stream",
          "name": "stdout",
          "text": [
            "<PIL.JpegImagePlugin.JpegImageFile image mode=RGB size=800x600 at 0x7FF750D26260>\n",
            "<PIL.JpegImagePlugin.JpegImageFile image mode=RGB size=800x600 at 0x7FF750D266B0>\n",
            "<PIL.JpegImagePlugin.JpegImageFile image mode=RGB size=800x600 at 0x7FF750D25DE0>\n",
            "<PIL.JpegImagePlugin.JpegImageFile image mode=RGB size=800x600 at 0x7FF750D25AB0>\n",
            "<PIL.JpegImagePlugin.JpegImageFile image mode=RGB size=800x600 at 0x7FF750D26260>\n",
            "<PIL.JpegImagePlugin.JpegImageFile image mode=RGB size=800x600 at 0x7FF750D26020>\n",
            "<PIL.JpegImagePlugin.JpegImageFile image mode=RGB size=800x600 at 0x7FF750D25DE0>\n",
            "<PIL.JpegImagePlugin.JpegImageFile image mode=RGB size=800x600 at 0x7FF750D25AB0>\n",
            "<PIL.JpegImagePlugin.JpegImageFile image mode=RGB size=800x600 at 0x7FF750D25DE0>\n",
            "<PIL.JpegImagePlugin.JpegImageFile image mode=RGB size=800x600 at 0x7FF750D25AB0>\n",
            "<PIL.JpegImagePlugin.JpegImageFile image mode=RGB size=800x600 at 0x7FF750D26020>\n",
            "<PIL.JpegImagePlugin.JpegImageFile image mode=RGB size=800x600 at 0x7FF750D26260>\n",
            "<PIL.JpegImagePlugin.JpegImageFile image mode=RGB size=800x600 at 0x7FF750D25B40>\n",
            "<PIL.JpegImagePlugin.JpegImageFile image mode=RGB size=800x600 at 0x7FF750D25B40>\n"
          ]
        },
        {
          "output_type": "stream",
          "name": "stderr",
          "text": [
            " 86%|████████▌ | 433/503 [00:05<00:01, 63.91it/s]"
          ]
        },
        {
          "output_type": "stream",
          "name": "stdout",
          "text": [
            "<PIL.JpegImagePlugin.JpegImageFile image mode=RGB size=800x600 at 0x7FF750D26020>\n",
            "<PIL.JpegImagePlugin.JpegImageFile image mode=RGB size=800x600 at 0x7FF750D25F60>\n",
            "<PIL.JpegImagePlugin.JpegImageFile image mode=RGB size=800x600 at 0x7FF750D266B0>\n",
            "<PIL.JpegImagePlugin.JpegImageFile image mode=RGB size=800x600 at 0x7FF750D26260>\n",
            "<PIL.JpegImagePlugin.JpegImageFile image mode=RGB size=800x600 at 0x7FF750D25B40>\n",
            "<PIL.JpegImagePlugin.JpegImageFile image mode=RGB size=800x600 at 0x7FF750D25F60>\n",
            "<PIL.JpegImagePlugin.JpegImageFile image mode=RGB size=800x600 at 0x7FF750D266B0>\n",
            "<PIL.JpegImagePlugin.JpegImageFile image mode=RGB size=800x600 at 0x7FF750D26260>\n",
            "<PIL.JpegImagePlugin.JpegImageFile image mode=RGB size=800x600 at 0x7FF750D26260>\n",
            "<PIL.JpegImagePlugin.JpegImageFile image mode=RGB size=800x600 at 0x7FF750D25B40>\n",
            "<PIL.JpegImagePlugin.JpegImageFile image mode=RGB size=800x600 at 0x7FF750D26260>\n",
            "<PIL.JpegImagePlugin.JpegImageFile image mode=RGB size=800x600 at 0x7FF750D25B40>\n",
            "<PIL.JpegImagePlugin.JpegImageFile image mode=RGB size=800x600 at 0x7FF750D26260>\n",
            "<PIL.JpegImagePlugin.JpegImageFile image mode=RGB size=800x600 at 0x7FF750D25B40>\n"
          ]
        },
        {
          "output_type": "stream",
          "name": "stderr",
          "text": [
            " 89%|████████▉ | 449/503 [00:06<00:00, 70.98it/s]"
          ]
        },
        {
          "output_type": "stream",
          "name": "stdout",
          "text": [
            "<PIL.JpegImagePlugin.JpegImageFile image mode=RGB size=800x600 at 0x7FF750D26260>\n",
            "<PIL.JpegImagePlugin.JpegImageFile image mode=RGB size=800x600 at 0x7FF750D266B0>\n",
            "<PIL.JpegImagePlugin.JpegImageFile image mode=RGB size=800x600 at 0x7FF750D25DE0>\n",
            "<PIL.JpegImagePlugin.JpegImageFile image mode=RGB size=800x600 at 0x7FF750D25AB0>\n",
            "<PIL.JpegImagePlugin.JpegImageFile image mode=RGB size=800x600 at 0x7FF750D25AB0>\n",
            "<PIL.JpegImagePlugin.JpegImageFile image mode=RGB size=800x600 at 0x7FF750D26020>\n",
            "<PIL.JpegImagePlugin.JpegImageFile image mode=RGB size=800x600 at 0x7FF750D26020>\n",
            "<PIL.JpegImagePlugin.JpegImageFile image mode=RGB size=800x600 at 0x7FF750D266B0>\n",
            "<PIL.JpegImagePlugin.JpegImageFile image mode=RGB size=800x600 at 0x7FF750D266B0>\n",
            "<PIL.JpegImagePlugin.JpegImageFile image mode=RGB size=800x600 at 0x7FF750D26260>\n",
            "<PIL.JpegImagePlugin.JpegImageFile image mode=RGB size=800x600 at 0x7FF750D26260>\n",
            "<PIL.JpegImagePlugin.JpegImageFile image mode=RGB size=800x600 at 0x7FF750D25AB0>\n",
            "<PIL.JpegImagePlugin.JpegImageFile image mode=RGB size=800x600 at 0x7FF750D25AB0>\n",
            "<PIL.JpegImagePlugin.JpegImageFile image mode=RGB size=800x600 at 0x7FF750D25AB0>\n",
            "<PIL.JpegImagePlugin.JpegImageFile image mode=RGB size=800x600 at 0x7FF750D25DE0>\n",
            "<PIL.JpegImagePlugin.JpegImageFile image mode=RGB size=800x600 at 0x7FF750D25DE0>\n",
            "<PIL.JpegImagePlugin.JpegImageFile image mode=RGB size=800x600 at 0x7FF750D26020>\n",
            "<PIL.JpegImagePlugin.JpegImageFile image mode=RGB size=800x600 at 0x7FF750D26020>\n",
            "<PIL.JpegImagePlugin.JpegImageFile image mode=RGB size=800x600 at 0x7FF750D25F60>\n"
          ]
        },
        {
          "output_type": "stream",
          "name": "stderr",
          "text": [
            " 93%|█████████▎| 469/503 [00:06<00:00, 82.79it/s]"
          ]
        },
        {
          "output_type": "stream",
          "name": "stdout",
          "text": [
            "<PIL.JpegImagePlugin.JpegImageFile image mode=RGB size=800x600 at 0x7FF750D25F60>\n",
            "<PIL.JpegImagePlugin.JpegImageFile image mode=RGB size=800x600 at 0x7FF750D25F60>\n",
            "<PIL.JpegImagePlugin.JpegImageFile image mode=RGB size=800x600 at 0x7FF750D25F60>\n",
            "<PIL.JpegImagePlugin.JpegImageFile image mode=RGB size=800x600 at 0x7FF750D266B0>\n",
            "<PIL.JpegImagePlugin.JpegImageFile image mode=RGB size=800x600 at 0x7FF750D266B0>\n",
            "<PIL.JpegImagePlugin.JpegImageFile image mode=RGB size=800x600 at 0x7FF750D25F60>\n",
            "<PIL.JpegImagePlugin.JpegImageFile image mode=RGB size=800x600 at 0x7FF750D25F60>\n",
            "<PIL.JpegImagePlugin.JpegImageFile image mode=RGB size=800x600 at 0x7FF750D25F60>\n",
            "<PIL.JpegImagePlugin.JpegImageFile image mode=RGB size=800x600 at 0x7FF750D25AB0>\n",
            "<PIL.JpegImagePlugin.JpegImageFile image mode=RGB size=800x600 at 0x7FF750D25AB0>\n",
            "<PIL.JpegImagePlugin.JpegImageFile image mode=RGB size=800x600 at 0x7FF750D26260>\n",
            "<PIL.JpegImagePlugin.JpegImageFile image mode=RGB size=800x600 at 0x7FF750D26260>\n",
            "<PIL.JpegImagePlugin.JpegImageFile image mode=RGB size=800x600 at 0x7FF750D25F60>\n",
            "<PIL.JpegImagePlugin.JpegImageFile image mode=RGB size=800x600 at 0x7FF750D25F60>\n",
            "<PIL.JpegImagePlugin.JpegImageFile image mode=RGB size=800x600 at 0x7FF750D25F60>\n",
            "<PIL.JpegImagePlugin.JpegImageFile image mode=RGB size=800x600 at 0x7FF750D25B40>\n",
            "<PIL.JpegImagePlugin.JpegImageFile image mode=RGB size=800x600 at 0x7FF750D25F60>\n",
            "<PIL.JpegImagePlugin.JpegImageFile image mode=RGB size=800x600 at 0x7FF750D25DE0>\n",
            "<PIL.JpegImagePlugin.JpegImageFile image mode=RGB size=800x600 at 0x7FF750D25AB0>\n"
          ]
        },
        {
          "output_type": "stream",
          "name": "stderr",
          "text": [
            " 97%|█████████▋| 489/503 [00:06<00:00, 88.75it/s]"
          ]
        },
        {
          "output_type": "stream",
          "name": "stdout",
          "text": [
            "<PIL.JpegImagePlugin.JpegImageFile image mode=RGB size=800x600 at 0x7FF750D25AB0>\n",
            "<PIL.JpegImagePlugin.JpegImageFile image mode=RGB size=800x600 at 0x7FF750D25DE0>\n",
            "<PIL.JpegImagePlugin.JpegImageFile image mode=RGB size=800x600 at 0x7FF750D25DE0>\n",
            "<PIL.JpegImagePlugin.JpegImageFile image mode=RGB size=800x600 at 0x7FF750D25B40>\n",
            "<PIL.JpegImagePlugin.JpegImageFile image mode=RGB size=800x600 at 0x7FF750D26020>\n",
            "<PIL.JpegImagePlugin.JpegImageFile image mode=RGB size=800x600 at 0x7FF750D25AB0>\n",
            "<PIL.JpegImagePlugin.JpegImageFile image mode=RGB size=800x600 at 0x7FF750D25B40>\n",
            "<PIL.JpegImagePlugin.JpegImageFile image mode=RGB size=800x600 at 0x7FF750D25B40>\n",
            "<PIL.JpegImagePlugin.JpegImageFile image mode=RGB size=800x600 at 0x7FF750D26020>\n",
            "<PIL.JpegImagePlugin.JpegImageFile image mode=RGB size=800x600 at 0x7FF750C1F940>\n",
            "<PIL.JpegImagePlugin.JpegImageFile image mode=RGB size=800x600 at 0x7FF750D25B40>\n",
            "<PIL.JpegImagePlugin.JpegImageFile image mode=RGB size=800x600 at 0x7FF750D25B40>\n",
            "<PIL.JpegImagePlugin.JpegImageFile image mode=RGB size=800x600 at 0x7FF750D25B40>\n",
            "<PIL.JpegImagePlugin.JpegImageFile image mode=RGB size=800x600 at 0x7FF750C1F940>\n",
            "<PIL.JpegImagePlugin.JpegImageFile image mode=RGB size=800x600 at 0x7FF750D25AB0>\n",
            "<PIL.JpegImagePlugin.JpegImageFile image mode=RGB size=800x600 at 0x7FF750D25DE0>\n",
            "<PIL.JpegImagePlugin.JpegImageFile image mode=RGB size=800x600 at 0x7FF750D25B40>\n",
            "<PIL.JpegImagePlugin.JpegImageFile image mode=RGB size=800x600 at 0x7FF750D25AB0>\n",
            "<PIL.JpegImagePlugin.JpegImageFile image mode=RGB size=800x600 at 0x7FF750D25F60>\n"
          ]
        },
        {
          "output_type": "stream",
          "name": "stderr",
          "text": [
            "100%|██████████| 503/503 [00:06<00:00, 73.96it/s]"
          ]
        },
        {
          "output_type": "stream",
          "name": "stdout",
          "text": [
            "<PIL.JpegImagePlugin.JpegImageFile image mode=RGB size=800x600 at 0x7FF75195CD30>\n",
            "<PIL.JpegImagePlugin.JpegImageFile image mode=RGB size=800x600 at 0x7FF750D266B0>\n",
            "<PIL.JpegImagePlugin.JpegImageFile image mode=RGB size=800x600 at 0x7FF750C1FFA0>\n",
            "<PIL.JpegImagePlugin.JpegImageFile image mode=RGB size=800x600 at 0x7FF750D266B0>\n",
            "<PIL.JpegImagePlugin.JpegImageFile image mode=RGB size=800x600 at 0x7FF75195CD30>\n",
            "<PIL.JpegImagePlugin.JpegImageFile image mode=RGB size=800x600 at 0x7FF750D25AB0>\n",
            "<PIL.JpegImagePlugin.JpegImageFile image mode=RGB size=800x600 at 0x7FF750D25AB0>\n"
          ]
        },
        {
          "output_type": "stream",
          "name": "stderr",
          "text": [
            "\n"
          ]
        }
      ]
    },
    {
      "cell_type": "code",
      "source": [
        "import os\n",
        "totalFiles = 0\n",
        "APP_FOLDER = \"/content/Reduced_dataset\"\n",
        "for files in os.listdir(APP_FOLDER):\n",
        "     totalFiles += 1\n",
        "print(totalFiles)"
      ],
      "metadata": {
        "colab": {
          "base_uri": "https://localhost:8080/"
        },
        "id": "eOgoxNoo6mUb",
        "outputId": "cd9eac1b-c13a-4176-d402-5a89cfe03402"
      },
      "execution_count": null,
      "outputs": [
        {
          "output_type": "stream",
          "name": "stdout",
          "text": [
            "69\n"
          ]
        }
      ]
    },
    {
      "cell_type": "code",
      "metadata": {
        "colab": {
          "base_uri": "https://localhost:8080/"
        },
        "id": "yAZ43G7jOmYR",
        "outputId": "dd14990a-3d64-4dd7-bd06-53f477f459b9"
      },
      "source": [
        "X=train['image_id'].values\n",
        "print(X)\n",
        "X.shape"
      ],
      "execution_count": null,
      "outputs": [
        {
          "output_type": "stream",
          "name": "stdout",
          "text": [
            "['1000015157.jpg' '1000201771.jpg' '100042118.jpg' '1000723321.jpg'\n",
            " '1000812911.jpg' '1000837476.jpg' '1000910826.jpg' '1001320321.jpg'\n",
            " '1001723730.jpg' '1001742395.jpg' '1001749118.jpg' '100204014.jpg'\n",
            " '1002088496.jpg' '1002255315.jpg' '1002394761.jpg' '1003218714.jpg'\n",
            " '1003298598.jpg' '1003442061.jpg' '1003888281.jpg' '1003987001.jpg'\n",
            " '1004105566.jpg' '1004163647.jpg' '1004389140.jpg' '1004672608.jpg'\n",
            " '100472565.jpg' '1004826518.jpg' '1004881261.jpg' '1005138819.jpg'\n",
            " '1005200906.jpg' '100533489.jpg' '100560400.jpg' '1005695738.jpg'\n",
            " '1005739807.jpg' '100609661.jpg' '1007196516.jpg' '1007246985.jpg'\n",
            " '100731318.jpg' '1007533812.jpg' '1007700625.jpg' '1007891044.jpg'\n",
            " '1008126487.jpg' '1008142548.jpg' '1008244905.jpg' '1008284502.jpg'\n",
            " '1008532311.jpg' '1009037539.jpg' '1009049118.jpg' '1009126931.jpg'\n",
            " '1009148537.jpg' '1009268848.jpg' '1009322597.jpg' '1009361983.jpg'\n",
            " '1009431532.jpg' '1009441020.jpg' '1009462599.jpg' '1009489704.jpg'\n",
            " '1009495847.jpg' '1009704586.jpg' '1009749557.jpg' '1009845426.jpg'\n",
            " '1010470173.jpg' '1010648150.jpg' '1010806468.jpg' '1010855776.jpg'\n",
            " '1010899191.jpg' '1011139244.jpg' '1011422445.jpg' '1011571614.jpg'\n",
            " '1011602291.jpg' '1011858443.jpg' '1011909285.jpg' '1012257169.jpg'\n",
            " '1012305013.jpg' '1012426959.jpg' '101253257.jpg' '1012599090.jpg'\n",
            " '1012623980.jpg' '1012755275.jpg' '1012804587.jpg' '1012902365.jpg'\n",
            " '1013678821.jpg' '1013734375.jpg' '1014087087.jpg' '1014332426.jpg'\n",
            " '1014359226.jpg' '1014365825.jpg' '1014433832.jpg' '1014492188.jpg'\n",
            " '1014810796.jpg' '1014888611.jpg' '1015034348.jpg' '1015143489.jpg'\n",
            " '1015749198.jpg' '1016027375.jpg' '1016258639.jpg' '1016334938.jpg'\n",
            " '1016415263.jpg' '10169000.jpg' '1016955090.jpg' '1017006970.jpg'\n",
            " '101712540.jpg' '1017415426.jpg' '1017667711.jpg' '1017670009.jpg'\n",
            " '1017827385.jpg' '1017890227.jpg' '1018433055.jpg' '1018450745.jpg'\n",
            " '101876866.jpg' '1018973237.jpg' '1019359196.jpg' '1019366633.jpg'\n",
            " '1019398233.jpg' '1019486948.jpg' '101960837.jpg' '1020196137.jpg'\n",
            " '1020245430.jpg' '1020387881.jpg' '102039365.jpg' '1020423203.jpg'\n",
            " '1020636424.jpg' '1020936674.jpg' '1021655183.jpg' '1021758544.jpg'\n",
            " '1022008227.jpg' '1022283943.jpg' '1022307478.jpg' '1022475063.jpg'\n",
            " '1022790491.jpg' '1022850256.jpg' '1022932733.jpg' '1023151050.jpg'\n",
            " '1023663951.jpg' '1023837322.jpg' '1023937437.jpg' '1024067372.jpg'\n",
            " '1024089865.jpg' '1024191493.jpg' '1024367055.jpg' '102447703.jpg'\n",
            " '1024504187.jpg' '102485576.jpg' '1024995071.jpg' '1025060651.jpg'\n",
            " '1025198223.jpg' '1025466430.jpg' '1025492337.jpg' '1025511060.jpg'\n",
            " '1025557405.jpg' '1025616565.jpg' '1025693532.jpg' '1026177105.jpg'\n",
            " '1026467332.jpg' '1026511145.jpg' '1026915452.jpg' '102719039.jpg'\n",
            " '1027550629.jpg' '1027766963.jpg' '1027796931.jpg' '1028041356.jpg'\n",
            " '1028105805.jpg' '1028128877.jpg' '1028318593.jpg' '1028446573.jpg'\n",
            " '1028629473.jpg' '1028697500.jpg' '1029560899.jpg' '102968016.jpg'\n",
            " '1029778366.jpg' '1029779424.jpg' '1030448520.jpg' '1031500522.jpg'\n",
            " '1031772206.jpg' '1032082353.jpg' '1032383932.jpg' '1032460539.jpg'\n",
            " '1032629824.jpg' '1033283646.jpg' '1033403106.jpg' '1033787784.jpg'\n",
            " '1033962303.jpg' '1034219276.jpg' '1034286210.jpg' '1034407153.jpg'\n",
            " '1034527129.jpg' '1034548842.jpg' '1034577161.jpg' '1034735631.jpg'\n",
            " '1035014017.jpg' '1035350866.jpg' '1035475040.jpg' '1036133928.jpg'\n",
            " '1036302176.jpg' '103630546.jpg' '1036380403.jpg' '1036692910.jpg'\n",
            " '1036697361.jpg' '1036774035.jpg' '1036959902.jpg' '1037277772.jpg'\n",
            " '1037337861.jpg' '103776422.jpg' '1038166459.jpg' '1038176489.jpg'\n",
            " '1038640139.jpg' '1038916688.jpg' '1039045921.jpg' '1039176615.jpg'\n",
            " '1039292236.jpg' '1039658655.jpg' '1039676268.jpg' '1039830931.jpg'\n",
            " '1039851684.jpg' '1040079282.jpg' '1040156603.jpg' '1040315063.jpg'\n",
            " '1040699059.jpg' '1040828572.jpg' '104086261.jpg' '1040876350.jpg'\n",
            " '1041022257.jpg' '1041184552.jpg' '1041588404.jpg' '1041651309.jpg'\n",
            " '1041666046.jpg' '1041701814.jpg' '1041922165.jpg' '1041923025.jpg'\n",
            " '1042223039.jpg' '1042521522.jpg' '1042550484.jpg' '1042661635.jpg'\n",
            " '1043083985.jpg' '1043086898.jpg' '1043184548.jpg' '1043238803.jpg'\n",
            " '1043392236.jpg' '1043752907.jpg' '1043857809.jpg' '1044221536.jpg'\n",
            " '104436415.jpg' '1044411903.jpg' '1044545725.jpg' '1044718671.jpg'\n",
            " '1044918414.jpg' '1044930186.jpg' '1044971650.jpg' '1045099368.jpg'\n",
            " '1045208006.jpg' '1045339937.jpg' '104535906.jpg' '1045545977.jpg'\n",
            " '1045708576.jpg' '1045776023.jpg' '10459387.jpg' '1045989131.jpg'\n",
            " '1046156726.jpg' '1046187121.jpg' '1046222396.jpg' '1046486747.jpg'\n",
            " '1046631452.jpg' '1046703257.jpg' '1046776729.jpg' '1046830901.jpg'\n",
            " '1047071545.jpg' '1047154095.jpg' '1047210476.jpg' '1047272845.jpg'\n",
            " '1047550741.jpg' '1047645957.jpg' '104769172.jpg' '1047894047.jpg'\n",
            " '1047901042.jpg' '1047958369.jpg' '1048147223.jpg' '1048372814.jpg'\n",
            " '1048581072.jpg' '1048678959.jpg' '1048686894.jpg' '1048738679.jpg'\n",
            " '1048872437.jpg' '1049426356.jpg' '1049791378.jpg' '1049924040.jpg'\n",
            " '1050134400.jpg' '1050263382.jpg' '1050292454.jpg' '1050313402.jpg'\n",
            " '105057263.jpg' '1050774063.jpg' '1050847556.jpg' '1050949665.jpg'\n",
            " '1051469374.jpg' '1051688339.jpg' '1052028548.jpg' '1052095724.jpg'\n",
            " '1052118637.jpg' '1052854295.jpg' '1052881053.jpg' '1052903541.jpg'\n",
            " '1053009170.jpg' '105315247.jpg' '1053293117.jpg' '1053317654.jpg'\n",
            " '1053317741.jpg' '1053331543.jpg' '1053506407.jpg' '1054048740.jpg'\n",
            " '1054179399.jpg' '1054232796.jpg' '1054468967.jpg' '1054935979.jpg'\n",
            " '1054946133.jpg' '1054987687.jpg' '1055012871.jpg' '1055305901.jpg'\n",
            " '1055627573.jpg' '105602329.jpg' '1056943297.jpg' '1057043660.jpg'\n",
            " '105741284.jpg' '1057462029.jpg' '1057519931.jpg' '1057579024.jpg'\n",
            " '1057697623.jpg' '1058428683.jpg' '1058438877.jpg' '1058466257.jpg'\n",
            " '1058542448.jpg' '1058931181.jpg' '1059213340.jpg' '1059218033.jpg'\n",
            " '1059334615.jpg' '1059412486.jpg' '1059498220.jpg' '1059782259.jpg'\n",
            " '1059986462.jpg' '1060007225.jpg' '1060214168.jpg' '1060477140.jpg'\n",
            " '1060543398.jpg' '1060644080.jpg' '10606813.jpg' '1060691063.jpg'\n",
            " '1060739991.jpg' '1060754806.jpg' '10607686.jpg' '1060819932.jpg'\n",
            " '1061187521.jpg' '1061287420.jpg' '106169527.jpg' '106217104.jpg'\n",
            " '106233037.jpg' '1063110047.jpg' '1063572140.jpg' '1064129080.jpg'\n",
            " '1064213029.jpg' '1064567128.jpg' '1064567864.jpg' '1064635740.jpg'\n",
            " '1064688608.jpg' '1065474134.jpg' '1065833532.jpg' '1066546103.jpg'\n",
            " '1066630679.jpg' '1066635665.jpg' '1066701107.jpg' '1067081821.jpg'\n",
            " '1067302519.jpg' '1067379852.jpg' '1067618974.jpg' '1067694987.jpg'\n",
            " '1067821323.jpg' '1067829359.jpg' '106785011.jpg' '1067983435.jpg'\n",
            " '1068174637.jpg' '1068558018.jpg' '1068624123.jpg' '1068801763.jpg'\n",
            " '1068803845.jpg' '1069065600.jpg' '1069221450.jpg' '1069816211.jpg'\n",
            " '1069921431.jpg' '1069985474.jpg' '1070151605.jpg' '1070206679.jpg'\n",
            " '1070548894.jpg' '1070630875.jpg' '1070742689.jpg' '1071136061.jpg'\n",
            " '1071660717.jpg' '1071700805.jpg' '107179104.jpg' '1071960213.jpg'\n",
            " '1072157342.jpg' '1072171567.jpg' '1072259548.jpg' '1072326766.jpg'\n",
            " '1072471707.jpg' '1072588150.jpg' '1072929806.jpg' '1073105435.jpg'\n",
            " '107350755.jpg' '1073881095.jpg' '1073893170.jpg' '1073915000.jpg'\n",
            " '1073983503.jpg' '107427326.jpg' '1074333151.jpg' '1074399386.jpg'\n",
            " '1074412436.jpg' '107443287.jpg' '1074461567.jpg' '1074544926.jpg'\n",
            " '107458529.jpg' '107466550.jpg' '1074721909.jpg' '1074804892.jpg'\n",
            " '1074822391.jpg' '1075008294.jpg' '1075008577.jpg' '1075249116.jpg'\n",
            " '1075456471.jpg' '1075841093.jpg' '107608677.jpg' '1076699996.jpg'\n",
            " '1076906366.jpg' '1076964019.jpg' '1077032520.jpg' '1077091549.jpg'\n",
            " '1077138637.jpg' '1077343678.jpg' '1077647851.jpg' '1077728760.jpg'\n",
            " '1077786495.jpg' '107801790.jpg' '1078061341.jpg' '10780620.jpg'\n",
            " '1078497809.jpg' '1078590865.jpg' '1078779441.jpg' '1078875759.jpg'\n",
            " '1079107547.jpg' '1079216156.jpg' '1079224858.jpg' '1079432452.jpg'\n",
            " '1079514795.jpg' '1079793899.jpg' '1079818659.jpg' '1080123455.jpg'\n",
            " '1080179563.jpg' '1080185160.jpg' '1080265497.jpg' '1080281713.jpg'\n",
            " '1080407872.jpg' '1080752639.jpg' '1081031509.jpg' '1081331009.jpg'\n",
            " '1081937072.jpg' '1081992369.jpg' '1082098147.jpg' '1082579432.jpg'\n",
            " '1082822990.jpg' '1082887568.jpg' '1083021605.jpg' '1083149527.jpg'\n",
            " '108321963.jpg' '1083535091.jpg' '1083681960.jpg' '1083896176.jpg'\n",
            " '1084229234.jpg' '108428649.jpg' '1084779411.jpg' '1084885558.jpg'\n",
            " '1084966463.jpg' '1085038226.jpg' '1085297222.jpg' '1085629921.jpg'\n",
            " '1085879366.jpg' '1085931637.jpg' '1085950509.jpg' '1086080704.jpg'\n",
            " '1086102546.jpg' '1086221210.jpg' '1086499006.jpg' '1086538376.jpg'\n",
            " '1086549590.jpg' '1086683858.jpg' '1087450558.jpg' '1088048736.jpg'\n",
            " '1088104223.jpg' '1088343861.jpg' '1088416255.jpg' '1088631003.jpg'\n",
            " '1088853815.jpg' '1089147259.jpg' '108944327.jpg' '1089555688.jpg'\n",
            " '1089661926.jpg' '1089759212.jpg' '1089887353.jpg']\n"
          ]
        },
        {
          "output_type": "execute_result",
          "data": {
            "text/plain": [
              "(503,)"
            ]
          },
          "metadata": {},
          "execution_count": 49
        }
      ]
    },
    {
      "cell_type": "code",
      "metadata": {
        "colab": {
          "base_uri": "https://localhost:8080/"
        },
        "id": "g3mwQVvoOpzN",
        "outputId": "56187d2f-b017-40c9-ceee-3d411dbbeaf5"
      },
      "source": [
        "y=train['label'].values\n",
        "print(y)\n",
        "y.shape\n",
        "\n"
      ],
      "execution_count": null,
      "outputs": [
        {
          "output_type": "stream",
          "name": "stdout",
          "text": [
            "[0 3 1 1 3 3 2 0 4 3 3 3 1 3 3 2 3 4 0 3 3 3 1 3 2 2 3 3 2 2 4 3 3 3 3 3 3\n",
            " 3 3 3 3 1 1 3 3 3 3 4 1 3 3 3 2 3 3 3 3 3 2 3 1 3 4 3 3 3 3 4 2 3 4 4 1 0\n",
            " 1 3 1 3 1 4 3 3 3 4 2 3 3 1 3 3 3 3 2 1 3 3 1 1 2 3 2 4 2 2 4 3 3 1 3 0 3\n",
            " 4 4 3 3 3 3 3 0 3 3 1 2 0 3 3 3 3 3 3 4 3 4 3 3 4 0 3 2 3 1 0 3 3 3 2 3 2\n",
            " 3 3 3 2 0 3 1 3 3 3 0 3 3 4 3 3 1 2 3 3 3 3 1 3 3 3 3 2 1 3 0 1 4 4 3 3 3\n",
            " 2 3 1 4 3 3 3 3 3 2 3 3 3 0 1 3 1 3 3 1 3 3 4 4 3 3 3 3 3 3 0 1 3 3 3 3 3\n",
            " 3 3 2 3 2 3 3 3 3 3 3 4 3 2 4 3 3 3 2 3 3 0 3 4 3 4 2 3 3 4 3 3 4 3 2 3 3\n",
            " 1 2 4 3 3 3 4 3 4 3 3 3 3 2 4 0 3 2 3 2 3 3 3 4 3 3 3 3 3 1 3 4 0 3 0 1 0\n",
            " 3 0 3 3 3 3 3 3 3 3 1 2 2 2 3 1 2 3 3 3 3 4 3 3 4 0 3 3 1 2 3 3 4 3 3 3 3\n",
            " 2 3 3 2 3 0 3 4 4 3 3 3 3 2 3 3 3 3 3 3 1 3 3 4 3 3 3 2 3 4 1 3 3 3 3 4 3\n",
            " 3 4 3 3 3 3 2 3 3 3 3 3 3 2 3 1 3 3 3 3 3 3 3 3 3 0 1 3 1 0 3 4 3 3 1 3 3\n",
            " 4 4 4 1 3 3 3 1 3 3 4 3 3 3 3 3 0 2 3 4 3 3 1 1 3 3 3 4 4 2 4 1 3 3 0 1 3\n",
            " 3 3 3 3 3 1 3 1 3 4 3 3 0 1 3 0 4 1 4 3 3 2 4 3 3 4 2 2 4 3 3 2 3 4 1 3 3\n",
            " 3 0 3 3 3 3 4 3 3 3 3 2 3 3 3 3 3 3 3 1 0 3]\n",
            "(503,)\n"
          ]
        }
      ]
    },
    {
      "cell_type": "code",
      "source": [
        "print(y.shape)\n"
      ],
      "metadata": {
        "colab": {
          "base_uri": "https://localhost:8080/"
        },
        "id": "BqW8cNOU5gnX",
        "outputId": "de58de56-6b95-41c5-db53-175d150cdea9"
      },
      "execution_count": null,
      "outputs": [
        {
          "output_type": "stream",
          "name": "stdout",
          "text": [
            "(503,)\n"
          ]
        }
      ]
    },
    {
      "cell_type": "code",
      "metadata": {
        "colab": {
          "base_uri": "https://localhost:8080/"
        },
        "id": "kdA-MfBYOuTA",
        "outputId": "c6840611-ee33-4da4-b948-71958334b7c8"
      },
      "source": [
        "# integer encode\n",
        "label_encoder = LabelEncoder()\n",
        "integer_encoded = label_encoder.fit_transform(y)\n",
        "print(integer_encoded)"
      ],
      "execution_count": null,
      "outputs": [
        {
          "output_type": "stream",
          "name": "stdout",
          "text": [
            "[0 3 1 1 3 3 2 0 4 3 3 3 1 3 3 2 3 4 0 3 3 3 1 3 2 2 3 3 2 2 4 3 3 3 3 3 3\n",
            " 3 3 3 3 1 1 3 3 3 3 4 1 3 3 3 2 3 3 3 3 3 2 3 1 3 4 3 3 3 3 4 2 3 4 4 1 0\n",
            " 1 3 1 3 1 4 3 3 3 4 2 3 3 1 3 3 3 3 2 1 3 3 1 1 2 3 2 4 2 2 4 3 3 1 3 0 3\n",
            " 4 4 3 3 3 3 3 0 3 3 1 2 0 3 3 3 3 3 3 4 3 4 3 3 4 0 3 2 3 1 0 3 3 3 2 3 2\n",
            " 3 3 3 2 0 3 1 3 3 3 0 3 3 4 3 3 1 2 3 3 3 3 1 3 3 3 3 2 1 3 0 1 4 4 3 3 3\n",
            " 2 3 1 4 3 3 3 3 3 2 3 3 3 0 1 3 1 3 3 1 3 3 4 4 3 3 3 3 3 3 0 1 3 3 3 3 3\n",
            " 3 3 2 3 2 3 3 3 3 3 3 4 3 2 4 3 3 3 2 3 3 0 3 4 3 4 2 3 3 4 3 3 4 3 2 3 3\n",
            " 1 2 4 3 3 3 4 3 4 3 3 3 3 2 4 0 3 2 3 2 3 3 3 4 3 3 3 3 3 1 3 4 0 3 0 1 0\n",
            " 3 0 3 3 3 3 3 3 3 3 1 2 2 2 3 1 2 3 3 3 3 4 3 3 4 0 3 3 1 2 3 3 4 3 3 3 3\n",
            " 2 3 3 2 3 0 3 4 4 3 3 3 3 2 3 3 3 3 3 3 1 3 3 4 3 3 3 2 3 4 1 3 3 3 3 4 3\n",
            " 3 4 3 3 3 3 2 3 3 3 3 3 3 2 3 1 3 3 3 3 3 3 3 3 3 0 1 3 1 0 3 4 3 3 1 3 3\n",
            " 4 4 4 1 3 3 3 1 3 3 4 3 3 3 3 3 0 2 3 4 3 3 1 1 3 3 3 4 4 2 4 1 3 3 0 1 3\n",
            " 3 3 3 3 3 1 3 1 3 4 3 3 0 1 3 0 4 1 4 3 3 2 4 3 3 4 2 2 4 3 3 2 3 4 1 3 3\n",
            " 3 0 3 3 3 3 4 3 3 3 3 2 3 3 3 3 3 3 3 1 0 3]\n"
          ]
        }
      ]
    },
    {
      "cell_type": "code",
      "metadata": {
        "id": "CqpB0qs5O5T4",
        "colab": {
          "base_uri": "https://localhost:8080/"
        },
        "outputId": "867af31f-64b5-4058-f94f-88aab22e9e37"
      },
      "source": [
        "y = to_categorical(integer_encoded)\n",
        "tf.convert_to_tensor(y)     #label 2 is converted in 1 and 4 in 2 in csv file stage_classification"
      ],
      "execution_count": null,
      "outputs": [
        {
          "output_type": "execute_result",
          "data": {
            "text/plain": [
              "<tf.Tensor: shape=(503, 5), dtype=float32, numpy=\n",
              "array([[1., 0., 0., 0., 0.],\n",
              "       [0., 0., 0., 1., 0.],\n",
              "       [0., 1., 0., 0., 0.],\n",
              "       ...,\n",
              "       [0., 1., 0., 0., 0.],\n",
              "       [1., 0., 0., 0., 0.],\n",
              "       [0., 0., 0., 1., 0.]], dtype=float32)>"
            ]
          },
          "metadata": {},
          "execution_count": 52
        }
      ]
    },
    {
      "cell_type": "code",
      "metadata": {
        "id": "kX-aXlEzPBPF"
      },
      "source": [
        "\n",
        "X_train, X_test, y_train, y_test   = train_test_split(X, y, test_size=0.2, random_state=1,stratify=y)\n",
        "\n",
        "X_train, X_val, y_train, y_val = train_test_split(X_train, y_train, test_size=0.25, random_state=1) # 0.25 x 0.8 = 0.2"
      ],
      "execution_count": null,
      "outputs": []
    },
    {
      "cell_type": "code",
      "metadata": {
        "id": "bvhjncVzcS_I",
        "colab": {
          "base_uri": "https://localhost:8080/"
        },
        "outputId": "eced4c2a-4b6f-420f-ee6e-9600d94e9f8a"
      },
      "source": [
        "  model = models.Sequential()\n",
        "  model.add(layers.Conv2D(filters = 64, kernel_size = (5,5), input_shape = (28,28,3),activation= 'relu'))\n",
        "  model.add(layers.Conv2D(filters = 64, kernel_size = (5,5), activation = 'relu'))\n",
        "  model.add(layers.MaxPooling2D(2,2))\n",
        "  model.add(layers.Conv2D(filters = 64, kernel_size = (5,5), activation = 'relu'))\n",
        "  model.add(layers.Conv2D(filters = 64, kernel_size = (5,5), activation = 'relu'))\n",
        "  model.add(layers.MaxPooling2D(2,2))\n",
        "  model.add(layers.Flatten())\n",
        "  model.add(layers.Dropout(rate = 0.3))\n",
        "  model.add(layers.Dense(units = 512, activation = 'relu'))\n",
        "  model.add(layers.Dropout(rate = 0.2))\n",
        "  model.add(layers.Dense(4, activation= \"softmax\"))\n",
        "  model.summary()\n",
        "\n",
        "  model.compile(loss = \"categorical_crossentropy\", optimizer = 'adam', metrics = [\"accuracy\"])\n",
        "  #es = EarlyStopping(monitor=\"val_accuracy\", patience = 7)\n",
        "  #model.fit(X_train, y_train, validation_data=(X_val, y_val), epochs=100, callbacks = [es], verbose=0)\n"
      ],
      "execution_count": null,
      "outputs": [
        {
          "output_type": "stream",
          "name": "stdout",
          "text": [
            "Model: \"sequential_9\"\n",
            "_________________________________________________________________\n",
            " Layer (type)                Output Shape              Param #   \n",
            "=================================================================\n",
            " conv2d_27 (Conv2D)          (None, 24, 24, 64)        4864      \n",
            "                                                                 \n",
            " conv2d_28 (Conv2D)          (None, 20, 20, 64)        102464    \n",
            "                                                                 \n",
            " max_pooling2d_12 (MaxPoolin  (None, 10, 10, 64)       0         \n",
            " g2D)                                                            \n",
            "                                                                 \n",
            " conv2d_29 (Conv2D)          (None, 6, 6, 64)          102464    \n",
            "                                                                 \n",
            " conv2d_30 (Conv2D)          (None, 2, 2, 64)          102464    \n",
            "                                                                 \n",
            " max_pooling2d_13 (MaxPoolin  (None, 1, 1, 64)         0         \n",
            " g2D)                                                            \n",
            "                                                                 \n",
            " flatten_6 (Flatten)         (None, 64)                0         \n",
            "                                                                 \n",
            " dropout_12 (Dropout)        (None, 64)                0         \n",
            "                                                                 \n",
            " dense_12 (Dense)            (None, 512)               33280     \n",
            "                                                                 \n",
            " dropout_13 (Dropout)        (None, 512)               0         \n",
            "                                                                 \n",
            " dense_13 (Dense)            (None, 4)                 2052      \n",
            "                                                                 \n",
            "=================================================================\n",
            "Total params: 347,588\n",
            "Trainable params: 347,588\n",
            "Non-trainable params: 0\n",
            "_________________________________________________________________\n"
          ]
        }
      ]
    },
    {
      "cell_type": "code",
      "metadata": {
        "id": "DEcs9BSYoUuo",
        "colab": {
          "base_uri": "https://localhost:8080/",
          "height": 743
        },
        "outputId": "72e0e450-6631-4a84-b595-f7e8e76f11b6"
      },
      "source": [
        "r=model.fit(X_train, y_train, epochs=50, validation_data=(X_val, y_val))"
      ],
      "execution_count": null,
      "outputs": [
        {
          "output_type": "stream",
          "name": "stdout",
          "text": [
            "Epoch 1/50\n"
          ]
        },
        {
          "output_type": "error",
          "ename": "ValueError",
          "evalue": "ignored",
          "traceback": [
            "\u001b[0;31m---------------------------------------------------------------------------\u001b[0m",
            "\u001b[0;31mValueError\u001b[0m                                Traceback (most recent call last)",
            "\u001b[0;32m<ipython-input-87-e401fd28a1d4>\u001b[0m in \u001b[0;36m<cell line: 1>\u001b[0;34m()\u001b[0m\n\u001b[0;32m----> 1\u001b[0;31m \u001b[0mr\u001b[0m\u001b[0;34m=\u001b[0m\u001b[0mmodel\u001b[0m\u001b[0;34m.\u001b[0m\u001b[0mfit\u001b[0m\u001b[0;34m(\u001b[0m\u001b[0mX_train\u001b[0m\u001b[0;34m,\u001b[0m \u001b[0my_train\u001b[0m\u001b[0;34m,\u001b[0m \u001b[0mepochs\u001b[0m\u001b[0;34m=\u001b[0m\u001b[0;36m50\u001b[0m\u001b[0;34m,\u001b[0m \u001b[0mvalidation_data\u001b[0m\u001b[0;34m=\u001b[0m\u001b[0;34m(\u001b[0m\u001b[0mX_val\u001b[0m\u001b[0;34m,\u001b[0m \u001b[0my_val\u001b[0m\u001b[0;34m)\u001b[0m\u001b[0;34m)\u001b[0m\u001b[0;34m\u001b[0m\u001b[0;34m\u001b[0m\u001b[0m\n\u001b[0m",
            "\u001b[0;32m/usr/local/lib/python3.10/dist-packages/keras/utils/traceback_utils.py\u001b[0m in \u001b[0;36merror_handler\u001b[0;34m(*args, **kwargs)\u001b[0m\n\u001b[1;32m     68\u001b[0m             \u001b[0;31m# To get the full stack trace, call:\u001b[0m\u001b[0;34m\u001b[0m\u001b[0;34m\u001b[0m\u001b[0m\n\u001b[1;32m     69\u001b[0m             \u001b[0;31m# `tf.debugging.disable_traceback_filtering()`\u001b[0m\u001b[0;34m\u001b[0m\u001b[0;34m\u001b[0m\u001b[0m\n\u001b[0;32m---> 70\u001b[0;31m             \u001b[0;32mraise\u001b[0m \u001b[0me\u001b[0m\u001b[0;34m.\u001b[0m\u001b[0mwith_traceback\u001b[0m\u001b[0;34m(\u001b[0m\u001b[0mfiltered_tb\u001b[0m\u001b[0;34m)\u001b[0m \u001b[0;32mfrom\u001b[0m \u001b[0;32mNone\u001b[0m\u001b[0;34m\u001b[0m\u001b[0;34m\u001b[0m\u001b[0m\n\u001b[0m\u001b[1;32m     71\u001b[0m         \u001b[0;32mfinally\u001b[0m\u001b[0;34m:\u001b[0m\u001b[0;34m\u001b[0m\u001b[0;34m\u001b[0m\u001b[0m\n\u001b[1;32m     72\u001b[0m             \u001b[0;32mdel\u001b[0m \u001b[0mfiltered_tb\u001b[0m\u001b[0;34m\u001b[0m\u001b[0;34m\u001b[0m\u001b[0m\n",
            "\u001b[0;32m/usr/local/lib/python3.10/dist-packages/keras/engine/training.py\u001b[0m in \u001b[0;36mtf__train_function\u001b[0;34m(iterator)\u001b[0m\n\u001b[1;32m     13\u001b[0m                 \u001b[0;32mtry\u001b[0m\u001b[0;34m:\u001b[0m\u001b[0;34m\u001b[0m\u001b[0;34m\u001b[0m\u001b[0m\n\u001b[1;32m     14\u001b[0m                     \u001b[0mdo_return\u001b[0m \u001b[0;34m=\u001b[0m \u001b[0;32mTrue\u001b[0m\u001b[0;34m\u001b[0m\u001b[0;34m\u001b[0m\u001b[0m\n\u001b[0;32m---> 15\u001b[0;31m                     \u001b[0mretval_\u001b[0m \u001b[0;34m=\u001b[0m \u001b[0mag__\u001b[0m\u001b[0;34m.\u001b[0m\u001b[0mconverted_call\u001b[0m\u001b[0;34m(\u001b[0m\u001b[0mag__\u001b[0m\u001b[0;34m.\u001b[0m\u001b[0mld\u001b[0m\u001b[0;34m(\u001b[0m\u001b[0mstep_function\u001b[0m\u001b[0;34m)\u001b[0m\u001b[0;34m,\u001b[0m \u001b[0;34m(\u001b[0m\u001b[0mag__\u001b[0m\u001b[0;34m.\u001b[0m\u001b[0mld\u001b[0m\u001b[0;34m(\u001b[0m\u001b[0mself\u001b[0m\u001b[0;34m)\u001b[0m\u001b[0;34m,\u001b[0m \u001b[0mag__\u001b[0m\u001b[0;34m.\u001b[0m\u001b[0mld\u001b[0m\u001b[0;34m(\u001b[0m\u001b[0miterator\u001b[0m\u001b[0;34m)\u001b[0m\u001b[0;34m)\u001b[0m\u001b[0;34m,\u001b[0m \u001b[0;32mNone\u001b[0m\u001b[0;34m,\u001b[0m \u001b[0mfscope\u001b[0m\u001b[0;34m)\u001b[0m\u001b[0;34m\u001b[0m\u001b[0;34m\u001b[0m\u001b[0m\n\u001b[0m\u001b[1;32m     16\u001b[0m                 \u001b[0;32mexcept\u001b[0m\u001b[0;34m:\u001b[0m\u001b[0;34m\u001b[0m\u001b[0;34m\u001b[0m\u001b[0m\n\u001b[1;32m     17\u001b[0m                     \u001b[0mdo_return\u001b[0m \u001b[0;34m=\u001b[0m \u001b[0;32mFalse\u001b[0m\u001b[0;34m\u001b[0m\u001b[0;34m\u001b[0m\u001b[0m\n",
            "\u001b[0;31mValueError\u001b[0m: in user code:\n\n    File \"/usr/local/lib/python3.10/dist-packages/keras/engine/training.py\", line 1284, in train_function  *\n        return step_function(self, iterator)\n    File \"/usr/local/lib/python3.10/dist-packages/keras/engine/training.py\", line 1268, in step_function  **\n        outputs = model.distribute_strategy.run(run_step, args=(data,))\n    File \"/usr/local/lib/python3.10/dist-packages/keras/engine/training.py\", line 1249, in run_step  **\n        outputs = model.train_step(data)\n    File \"/usr/local/lib/python3.10/dist-packages/keras/engine/training.py\", line 1050, in train_step\n        y_pred = self(x, training=True)\n    File \"/usr/local/lib/python3.10/dist-packages/keras/utils/traceback_utils.py\", line 70, in error_handler\n        raise e.with_traceback(filtered_tb) from None\n    File \"/usr/local/lib/python3.10/dist-packages/keras/engine/input_spec.py\", line 253, in assert_input_compatibility\n        raise ValueError(\n\n    ValueError: Exception encountered when calling layer 'sequential_9' (type Sequential).\n    \n    Input 0 of layer \"conv2d_27\" is incompatible with the layer: expected min_ndim=4, found ndim=1. Full shape received: (None,)\n    \n    Call arguments received by layer 'sequential_9' (type Sequential):\n      • inputs=tf.Tensor(shape=(None,), dtype=string)\n      • training=True\n      • mask=None\n"
          ]
        }
      ]
    },
    {
      "cell_type": "code",
      "metadata": {
        "id": "qsLHZ8xEop1V",
        "colab": {
          "base_uri": "https://localhost:8080/",
          "height": 798
        },
        "outputId": "980c2fa0-8503-43c6-e807-a6562929e91f"
      },
      "source": [
        "from sklearn.metrics import classification_report\n",
        "from sklearn.metrics import confusion_matrix,cohen_kappa_score\n",
        "#import seaborn as sns\n",
        "# Use trained model to predict output of test dataset\n",
        "y_pred = model.predict(X_test)\n",
        "\n",
        "y_pred=np.argmax(y_pred)\n",
        "y_test=np.argmax(y_test)\n",
        "cm = confusion_matrix(y_test, y_pred)\n",
        "\n",
        "print(cm)\n",
        "\n",
        "# View accuracy score\n",
        "\n",
        "print('Classification Report')\n",
        "target_names = ['CBB','CBSD','CGM','CMD','Healthy']\n",
        "clf_report=classification_report(y_test, y_pred)\n",
        "print(clf_report)\n",
        "#sns.heatmap(cm/np.sum(cm),xticklabels=['malign-actual','benign-actual'], yticklabels=['malign-pred','benign-pred'], annot=True,   fmt='.2%',cbar=False,cmap=\"YlGnBu\")\n"
      ],
      "execution_count": null,
      "outputs": [
        {
          "output_type": "error",
          "ename": "ValueError",
          "evalue": "ignored",
          "traceback": [
            "\u001b[0;31m---------------------------------------------------------------------------\u001b[0m",
            "\u001b[0;31mValueError\u001b[0m                                Traceback (most recent call last)",
            "\u001b[0;32m<ipython-input-88-720e4288ac53>\u001b[0m in \u001b[0;36m<cell line: 5>\u001b[0;34m()\u001b[0m\n\u001b[1;32m      3\u001b[0m \u001b[0;31m#import seaborn as sns\u001b[0m\u001b[0;34m\u001b[0m\u001b[0;34m\u001b[0m\u001b[0m\n\u001b[1;32m      4\u001b[0m \u001b[0;31m# Use trained model to predict output of test dataset\u001b[0m\u001b[0;34m\u001b[0m\u001b[0;34m\u001b[0m\u001b[0m\n\u001b[0;32m----> 5\u001b[0;31m \u001b[0my_pred\u001b[0m \u001b[0;34m=\u001b[0m \u001b[0mmodel\u001b[0m\u001b[0;34m.\u001b[0m\u001b[0mpredict\u001b[0m\u001b[0;34m(\u001b[0m\u001b[0mX_test\u001b[0m\u001b[0;34m)\u001b[0m\u001b[0;34m\u001b[0m\u001b[0;34m\u001b[0m\u001b[0m\n\u001b[0m\u001b[1;32m      6\u001b[0m \u001b[0;34m\u001b[0m\u001b[0m\n\u001b[1;32m      7\u001b[0m \u001b[0my_pred\u001b[0m\u001b[0;34m=\u001b[0m\u001b[0mnp\u001b[0m\u001b[0;34m.\u001b[0m\u001b[0margmax\u001b[0m\u001b[0;34m(\u001b[0m\u001b[0my_pred\u001b[0m\u001b[0;34m)\u001b[0m\u001b[0;34m\u001b[0m\u001b[0;34m\u001b[0m\u001b[0m\n",
            "\u001b[0;32m/usr/local/lib/python3.10/dist-packages/keras/utils/traceback_utils.py\u001b[0m in \u001b[0;36merror_handler\u001b[0;34m(*args, **kwargs)\u001b[0m\n\u001b[1;32m     68\u001b[0m             \u001b[0;31m# To get the full stack trace, call:\u001b[0m\u001b[0;34m\u001b[0m\u001b[0;34m\u001b[0m\u001b[0m\n\u001b[1;32m     69\u001b[0m             \u001b[0;31m# `tf.debugging.disable_traceback_filtering()`\u001b[0m\u001b[0;34m\u001b[0m\u001b[0;34m\u001b[0m\u001b[0m\n\u001b[0;32m---> 70\u001b[0;31m             \u001b[0;32mraise\u001b[0m \u001b[0me\u001b[0m\u001b[0;34m.\u001b[0m\u001b[0mwith_traceback\u001b[0m\u001b[0;34m(\u001b[0m\u001b[0mfiltered_tb\u001b[0m\u001b[0;34m)\u001b[0m \u001b[0;32mfrom\u001b[0m \u001b[0;32mNone\u001b[0m\u001b[0;34m\u001b[0m\u001b[0;34m\u001b[0m\u001b[0m\n\u001b[0m\u001b[1;32m     71\u001b[0m         \u001b[0;32mfinally\u001b[0m\u001b[0;34m:\u001b[0m\u001b[0;34m\u001b[0m\u001b[0;34m\u001b[0m\u001b[0m\n\u001b[1;32m     72\u001b[0m             \u001b[0;32mdel\u001b[0m \u001b[0mfiltered_tb\u001b[0m\u001b[0;34m\u001b[0m\u001b[0;34m\u001b[0m\u001b[0m\n",
            "\u001b[0;32m/usr/local/lib/python3.10/dist-packages/keras/engine/training.py\u001b[0m in \u001b[0;36mtf__predict_function\u001b[0;34m(iterator)\u001b[0m\n\u001b[1;32m     13\u001b[0m                 \u001b[0;32mtry\u001b[0m\u001b[0;34m:\u001b[0m\u001b[0;34m\u001b[0m\u001b[0;34m\u001b[0m\u001b[0m\n\u001b[1;32m     14\u001b[0m                     \u001b[0mdo_return\u001b[0m \u001b[0;34m=\u001b[0m \u001b[0;32mTrue\u001b[0m\u001b[0;34m\u001b[0m\u001b[0;34m\u001b[0m\u001b[0m\n\u001b[0;32m---> 15\u001b[0;31m                     \u001b[0mretval_\u001b[0m \u001b[0;34m=\u001b[0m \u001b[0mag__\u001b[0m\u001b[0;34m.\u001b[0m\u001b[0mconverted_call\u001b[0m\u001b[0;34m(\u001b[0m\u001b[0mag__\u001b[0m\u001b[0;34m.\u001b[0m\u001b[0mld\u001b[0m\u001b[0;34m(\u001b[0m\u001b[0mstep_function\u001b[0m\u001b[0;34m)\u001b[0m\u001b[0;34m,\u001b[0m \u001b[0;34m(\u001b[0m\u001b[0mag__\u001b[0m\u001b[0;34m.\u001b[0m\u001b[0mld\u001b[0m\u001b[0;34m(\u001b[0m\u001b[0mself\u001b[0m\u001b[0;34m)\u001b[0m\u001b[0;34m,\u001b[0m \u001b[0mag__\u001b[0m\u001b[0;34m.\u001b[0m\u001b[0mld\u001b[0m\u001b[0;34m(\u001b[0m\u001b[0miterator\u001b[0m\u001b[0;34m)\u001b[0m\u001b[0;34m)\u001b[0m\u001b[0;34m,\u001b[0m \u001b[0;32mNone\u001b[0m\u001b[0;34m,\u001b[0m \u001b[0mfscope\u001b[0m\u001b[0;34m)\u001b[0m\u001b[0;34m\u001b[0m\u001b[0;34m\u001b[0m\u001b[0m\n\u001b[0m\u001b[1;32m     16\u001b[0m                 \u001b[0;32mexcept\u001b[0m\u001b[0;34m:\u001b[0m\u001b[0;34m\u001b[0m\u001b[0;34m\u001b[0m\u001b[0m\n\u001b[1;32m     17\u001b[0m                     \u001b[0mdo_return\u001b[0m \u001b[0;34m=\u001b[0m \u001b[0;32mFalse\u001b[0m\u001b[0;34m\u001b[0m\u001b[0;34m\u001b[0m\u001b[0m\n",
            "\u001b[0;31mValueError\u001b[0m: in user code:\n\n    File \"/usr/local/lib/python3.10/dist-packages/keras/engine/training.py\", line 2169, in predict_function  *\n        return step_function(self, iterator)\n    File \"/usr/local/lib/python3.10/dist-packages/keras/engine/training.py\", line 2155, in step_function  **\n        outputs = model.distribute_strategy.run(run_step, args=(data,))\n    File \"/usr/local/lib/python3.10/dist-packages/keras/engine/training.py\", line 2143, in run_step  **\n        outputs = model.predict_step(data)\n    File \"/usr/local/lib/python3.10/dist-packages/keras/engine/training.py\", line 2111, in predict_step\n        return self(x, training=False)\n    File \"/usr/local/lib/python3.10/dist-packages/keras/utils/traceback_utils.py\", line 70, in error_handler\n        raise e.with_traceback(filtered_tb) from None\n    File \"/usr/local/lib/python3.10/dist-packages/keras/engine/input_spec.py\", line 253, in assert_input_compatibility\n        raise ValueError(\n\n    ValueError: Exception encountered when calling layer 'sequential_9' (type Sequential).\n    \n    Input 0 of layer \"conv2d_27\" is incompatible with the layer: expected min_ndim=4, found ndim=1. Full shape received: (None,)\n    \n    Call arguments received by layer 'sequential_9' (type Sequential):\n      • inputs=tf.Tensor(shape=(None,), dtype=string)\n      • training=False\n      • mask=None\n"
          ]
        }
      ]
    },
    {
      "cell_type": "code",
      "source": [
        "from sklearn.metrics import cohen_kappa_score\n",
        "ckappa=cohen_kappa_score(y_test, y_pred)\n",
        "print(\"kappa score\")\n",
        "print(ckappa)"
      ],
      "metadata": {
        "colab": {
          "base_uri": "https://localhost:8080/",
          "height": 226
        },
        "id": "-BkUZpZeks5e",
        "outputId": "6989107b-a3af-4079-d203-b6528f42cc9e"
      },
      "execution_count": null,
      "outputs": [
        {
          "output_type": "error",
          "ename": "NameError",
          "evalue": "ignored",
          "traceback": [
            "\u001b[0;31m---------------------------------------------------------------------------\u001b[0m",
            "\u001b[0;31mNameError\u001b[0m                                 Traceback (most recent call last)",
            "\u001b[0;32m<ipython-input-77-f466e7b09da3>\u001b[0m in \u001b[0;36m<cell line: 2>\u001b[0;34m()\u001b[0m\n\u001b[1;32m      1\u001b[0m \u001b[0;32mfrom\u001b[0m \u001b[0msklearn\u001b[0m\u001b[0;34m.\u001b[0m\u001b[0mmetrics\u001b[0m \u001b[0;32mimport\u001b[0m \u001b[0mcohen_kappa_score\u001b[0m\u001b[0;34m\u001b[0m\u001b[0;34m\u001b[0m\u001b[0m\n\u001b[0;32m----> 2\u001b[0;31m \u001b[0mckappa\u001b[0m\u001b[0;34m=\u001b[0m\u001b[0mcohen_kappa_score\u001b[0m\u001b[0;34m(\u001b[0m\u001b[0my_test\u001b[0m\u001b[0;34m,\u001b[0m \u001b[0my_pred\u001b[0m\u001b[0;34m)\u001b[0m\u001b[0;34m\u001b[0m\u001b[0;34m\u001b[0m\u001b[0m\n\u001b[0m\u001b[1;32m      3\u001b[0m \u001b[0mprint\u001b[0m\u001b[0;34m(\u001b[0m\u001b[0;34m\"kappa score\"\u001b[0m\u001b[0;34m)\u001b[0m\u001b[0;34m\u001b[0m\u001b[0;34m\u001b[0m\u001b[0m\n\u001b[1;32m      4\u001b[0m \u001b[0mprint\u001b[0m\u001b[0;34m(\u001b[0m\u001b[0mckappa\u001b[0m\u001b[0;34m)\u001b[0m\u001b[0;34m\u001b[0m\u001b[0;34m\u001b[0m\u001b[0m\n",
            "\u001b[0;31mNameError\u001b[0m: name 'y_pred' is not defined"
          ]
        }
      ]
    },
    {
      "cell_type": "code",
      "source": [
        "import seaborn as sns\n",
        "import matplotlib.pyplot as plt\n",
        "\n",
        "ax = sns.heatmap(confusion_matrix(y_test, y_pred),fmt=\"d\", annot=True, cmap='Blues')\n",
        "\n",
        "#ax.set_title('Seaborn Confusion Matrix with labels\\n\\n');\n",
        "ax.set_xlabel('\\nPredicted stage classifiction')\n",
        "ax.set_ylabel('Actual stage classifiction');\n",
        "\n",
        "## Ticket labels - List must be in alphabetical order\n",
        "ax.xaxis.set_ticklabels(['Stage1','Stage2', 'Stage3','stage4'])\n",
        "ax.yaxis.set_ticklabels(['Stage1','Stage2', 'Stage3','stage4'])\n",
        "\n",
        "## Display the visualization of the Confusion Matrix.\n",
        "plt.show()"
      ],
      "metadata": {
        "colab": {
          "base_uri": "https://localhost:8080/",
          "height": 291
        },
        "id": "bI5KObOufsrn",
        "outputId": "914e6934-0fef-4f10-9cd1-68c3c01ca455"
      },
      "execution_count": null,
      "outputs": [
        {
          "output_type": "display_data",
          "data": {
            "text/plain": [
              "<Figure size 432x288 with 2 Axes>"
            ],
            "image/png": "[encoded data removed]"
          },
          "metadata": {
            "needs_background": "light"
          }
        }
      ]
    },
    {
      "cell_type": "code",
      "metadata": {
        "colab": {
          "base_uri": "https://localhost:8080/"
        },
        "id": "qxdc0oBXouFw",
        "outputId": "e88776b7-a071-4c3b-a51d-7cc30debb72a"
      },
      "source": [
        "from sklearn.metrics import roc_auc_score\n",
        "from sklearn import preprocessing\n",
        "\n",
        "# Use trained model to predict output of test dataset\n",
        "\n",
        "\n",
        "lb = preprocessing.LabelBinarizer()\n",
        "lb.fit(y_test)\n",
        "\n",
        "y_test_lb = lb.transform(y_test)\n",
        "y_pred_lb = lb.transform(y_pred)\n",
        "\n",
        "print(\"ROC_AUC_Score\",roc_auc_score(y_test_lb, y_pred_lb, average='macro'))"
      ],
      "execution_count": null,
      "outputs": [
        {
          "output_type": "stream",
          "name": "stdout",
          "text": [
            "ROC_AUC_Score 0.9807395566012655\n"
          ]
        }
      ]
    },
    {
      "cell_type": "code",
      "source": [
        "import numpy as np\n",
        "import matplotlib.pyplot as plt\n",
        "from sklearn.metrics import roc_curve\n",
        "from sklearn.metrics import auc\n",
        "from itertools import cycle\n",
        "from sklearn.preprocessing import label_binarize\n",
        "y = label_binarize(y, classes=[0, 1, 2,3])\n",
        "n_classes = y.shape[1]\n",
        "y_score=y_pred_lb\n",
        "\n",
        "fpr = dict()\n",
        "tpr = dict()\n",
        "roc_auc = dict()\n",
        "for i in range(n_classes):\n",
        "    y_test_dummies = pd.get_dummies(y_test, drop_first=False).values\n",
        "    fpr[i], tpr[i],_ = roc_curve(y_test_dummies[:, i], y_score[:, i])\n",
        "    roc_auc[i] = auc(fpr[i], tpr[i])\n",
        "\n",
        "colors = cycle(['blue', 'red', 'green', 'orange'])\n",
        "for i, color in zip(range(n_classes), colors):\n",
        "    plt.plot(fpr[i], tpr[i], color=color,\n",
        "             label='ROC curve of class {0} (area = {1:0.2f})'\n",
        "             ''.format(i, roc_auc[i]))\n",
        "plt.plot([0, 1], [0, 1], 'k--')\n",
        "plt.xlim([-0.05, 1.0])\n",
        "plt.ylim([0.0, 1.05])\n",
        "plt.xlabel('False Positive Rate')\n",
        "plt.ylabel('True Positive Rate')\n",
        "#plt.title('Receiver operating characteristic for oral can data')\n",
        "plt.legend(loc=\"lower right\")\n",
        "plt.show()\n"
      ],
      "metadata": {
        "colab": {
          "base_uri": "https://localhost:8080/",
          "height": 279
        },
        "id": "hGRuWeGePNKo",
        "outputId": "74005b44-46ee-4cde-9867-0bdea2c90533"
      },
      "execution_count": null,
      "outputs": [
        {
          "output_type": "display_data",
          "data": {
            "text/plain": [
              "<Figure size 432x288 with 1 Axes>"
            ],
            "image/png": "[encoded data removed]"
          },
          "metadata": {
            "needs_background": "light"
          }
        }
      ]
    },
    {
      "cell_type": "code",
      "metadata": {
        "colab": {
          "base_uri": "https://localhost:8080/",
          "height": 552
        },
        "id": "WnWwOuJspDwf",
        "outputId": "0d783f17-8bdc-4b94-8265-240a2dc354a4"
      },
      "source": [
        "plt.figure(figsize=(20,10))\n",
        "plt.subplot(1, 2, 1)\n",
        "plt.suptitle('Optimizer : Adam', fontsize=10)\n",
        "plt.ylabel('Loss', fontsize=16)\n",
        "plt.xlabel('Loss', fontsize=16)\n",
        "plt.plot(r.history['loss'], label='Training Loss')\n",
        "plt.plot(r.history['val_loss'], label='Validation Loss')\n",
        "plt.legend(loc='upper right')\n",
        "\n",
        "plt.subplot(1, 2, 2)\n",
        "plt.ylabel('Accuracy', fontsize=16)\n",
        "plt.plot(r.history['accuracy'], label='Training Accuracy')\n",
        "plt.plot(r.history['val_accuracy'], label='Validation Accuracy')\n",
        "plt.legend(loc='lower right')\n",
        "plt.show()"
      ],
      "execution_count": null,
      "outputs": [
        {
          "output_type": "display_data",
          "data": {
            "image/png": "[encoded data removed]",
            "text/plain": [
              "<Figure size 1440x720 with 2 Axes>"
            ]
          },
          "metadata": {
            "needs_background": "light"
          }
        }
      ]
    },
    {
      "cell_type": "code",
      "source": [
        "!pip install scikit-plot"
      ],
      "metadata": {
        "colab": {
          "base_uri": "https://localhost:8080/"
        },
        "id": "tJ7TZNWSm5t_",
        "outputId": "2f5b5bf9-28a1-4a3c-a592-adb014eb9831"
      },
      "execution_count": null,
      "outputs": [
        {
          "output_type": "stream",
          "name": "stdout",
          "text": [
            "Looking in indexes: https://pypi.org/simple, https://us-python.pkg.dev/colab-wheels/public/simple/\n",
            "Collecting scikit-plot\n",
            "  Downloading scikit_plot-0.3.7-py3-none-any.whl (33 kB)\n",
            "Requirement already satisfied: matplotlib>=1.4.0 in /usr/local/lib/python3.10/dist-packages (from scikit-plot) (3.7.1)\n",
            "Requirement already satisfied: scikit-learn>=0.18 in /usr/local/lib/python3.10/dist-packages (from scikit-plot) (1.2.2)\n",
            "Requirement already satisfied: scipy>=0.9 in /usr/local/lib/python3.10/dist-packages (from scikit-plot) (1.10.1)\n",
            "Requirement already satisfied: joblib>=0.10 in /usr/local/lib/python3.10/dist-packages (from scikit-plot) (1.2.0)\n",
            "Requirement already satisfied: contourpy>=1.0.1 in /usr/local/lib/python3.10/dist-packages (from matplotlib>=1.4.0->scikit-plot) (1.0.7)\n",
            "Requirement already satisfied: cycler>=0.10 in /usr/local/lib/python3.10/dist-packages (from matplotlib>=1.4.0->scikit-plot) (0.11.0)\n",
            "Requirement already satisfied: fonttools>=4.22.0 in /usr/local/lib/python3.10/dist-packages (from matplotlib>=1.4.0->scikit-plot) (4.39.3)\n",
            "Requirement already satisfied: kiwisolver>=1.0.1 in /usr/local/lib/python3.10/dist-packages (from matplotlib>=1.4.0->scikit-plot) (1.4.4)\n",
            "Requirement already satisfied: numpy>=1.20 in /usr/local/lib/python3.10/dist-packages (from matplotlib>=1.4.0->scikit-plot) (1.22.4)\n",
            "Requirement already satisfied: packaging>=20.0 in /usr/local/lib/python3.10/dist-packages (from matplotlib>=1.4.0->scikit-plot) (23.1)\n",
            "Requirement already satisfied: pillow>=6.2.0 in /usr/local/lib/python3.10/dist-packages (from matplotlib>=1.4.0->scikit-plot) (8.4.0)\n",
            "Requirement already satisfied: pyparsing>=2.3.1 in /usr/local/lib/python3.10/dist-packages (from matplotlib>=1.4.0->scikit-plot) (3.0.9)\n",
            "Requirement already satisfied: python-dateutil>=2.7 in /usr/local/lib/python3.10/dist-packages (from matplotlib>=1.4.0->scikit-plot) (2.8.2)\n",
            "Requirement already satisfied: threadpoolctl>=2.0.0 in /usr/local/lib/python3.10/dist-packages (from scikit-learn>=0.18->scikit-plot) (3.1.0)\n",
            "Requirement already satisfied: six>=1.5 in /usr/local/lib/python3.10/dist-packages (from python-dateutil>=2.7->matplotlib>=1.4.0->scikit-plot) (1.16.0)\n",
            "Installing collected packages: scikit-plot\n",
            "Successfully installed scikit-plot-0.3.7\n"
          ]
        }
      ]
    },
    {
      "cell_type": "code",
      "metadata": {
        "id": "4zXyulW2PN6m"
      },
      "source": [
        "def CNN_model( f1, f2,f3, k, a1, a2, d1, d2, op, ep):\n",
        "  model = models.Sequential()\n",
        "  model.add(layers.Conv2D(filters = f1, kernel_size = (k, k), activation = a1, input_shape = (28,28,3)))\n",
        "  model.add(layers.Conv2D(filters = f1, kernel_size = (k, k), activation = a1))\n",
        "  model.add(layers.MaxPooling2D(2,2))\n",
        "  model.add(layers.Conv2D(filters = f2, kernel_size = (k, k), activation = a2))\n",
        "  model.add(layers.Conv2D(filters = f2, kernel_size = (k, k), activation = a2))\n",
        "  model.add(layers.MaxPooling2D(2,2))\n",
        "  model.add(layers.Flatten())\n",
        "  model.add(layers.Dropout(rate = d1))\n",
        "  model.add(layers.Dense(units = f3, activation = a2))\n",
        "  model.add(layers.Dropout(rate = d2))\n",
        "  model.add(layers.Dense(4, activation= \"softmax\"))\n",
        "\n",
        "  model.compile(loss = \"categorical_crossentropy\", optimizer = op, metrics = [\"accuracy\"])\n",
        "  es = EarlyStopping(monitor=\"val_accuracy\", patience = 7)\n",
        "  model.fit(X_train, y_train, validation_data=(X_val, y_val), epochs=ep, callbacks = [es], verbose=0)\n",
        "\n",
        "\n",
        "  return model"
      ],
      "execution_count": null,
      "outputs": []
    },
    {
      "cell_type": "code",
      "metadata": {
        "id": "FJkkkejUPZ5F"
      },
      "source": [
        "from random import choice\n",
        "from random import uniform\n",
        "from numpy.random import randint"
      ],
      "execution_count": null,
      "outputs": []
    },
    {
      "cell_type": "code",
      "metadata": {
        "id": "idUnzkDuPhc7"
      },
      "source": [
        "\n",
        "def initialization():\n",
        "  parameters = {} # dictionary\n",
        "  f1 = choice([32, 64])\n",
        "  parameters[\"f1\"] = f1\n",
        "  f2 = choice([64, 128])\n",
        "  parameters[\"f2\"] = f2\n",
        "  f3 = choice([128, 256, 512])\n",
        "  parameters[\"f3\"] = f3\n",
        "  k = choice([3,5])\n",
        "  parameters[\"k\"] = k\n",
        "  a1 = choice([\"relu\", \"selu\", \"elu\"])\n",
        "  parameters[\"a1\"] = a1\n",
        "  a2 = choice([\"relu\", \"selu\", \"elu\"])\n",
        "  parameters[\"a2\"] = a2\n",
        "  d1 = round(uniform(0.1, 0.5), 1)\n",
        "  parameters[\"d1\"] = d1\n",
        "  d2 = round(uniform(0.1, 0.5), 1)\n",
        "  parameters[\"d2\"] = d2\n",
        "  op = choice([\"adamax\", \"adadelta\", \"adam\", \"adagrad\"])\n",
        "  parameters[\"op\"] = op\n",
        "  ep = randint(50, 100)\n",
        "  parameters[\"ep\"] = ep\n",
        "  return parameters"
      ],
      "execution_count": null,
      "outputs": []
    },
    {
      "cell_type": "code",
      "metadata": {
        "id": "zWMQOJwoPzVA"
      },
      "source": [
        "def generate_population(n):\n",
        "  population = []\n",
        "  for i in range(n):\n",
        "    chromosome = initialization()\n",
        "    population.append(chromosome)\n",
        "  return population\n",
        "\n"
      ],
      "execution_count": null,
      "outputs": []
    },
    {
      "cell_type": "code",
      "metadata": {
        "id": "2oKJOyWgP7YB"
      },
      "source": [
        "\n",
        "# Fitness evaluation metric: Classification Accuracy\n",
        "def fitness_evaluation(model):\n",
        "  metrics = model.evaluate(X_test, y_test)\n",
        "  return metrics[1]"
      ],
      "execution_count": null,
      "outputs": []
    },
    {
      "cell_type": "code",
      "metadata": {
        "id": "C-gaFGjVP-W5"
      },
      "source": [
        "\n",
        "# Roulette wheel selection method\n",
        "def selection(population_fitness):\n",
        "  total = sum(population_fitness)\n",
        "  percentage = [round((x/total) * 100) for x in population_fitness]\n",
        "  selection_wheel = []\n",
        "  for pop_index,num in enumerate(percentage):\n",
        "    selection_wheel.extend([pop_index]*num)\n",
        "  parent1_ind = choice(selection_wheel)\n",
        "  parent2_ind = choice(selection_wheel)\n",
        "  return [parent1_ind, parent2_ind]"
      ],
      "execution_count": null,
      "outputs": []
    },
    {
      "cell_type": "code",
      "metadata": {
        "id": "xI1jiawZQXZR"
      },
      "source": [
        "def crossover(parent1, parent2):\n",
        "  child1 = {}\n",
        "  child2 = {}\n",
        "\n",
        "  child1[\"f1\"] = choice([parent1[\"f1\"], parent2[\"f1\"]])\n",
        "  child1[\"f2\"] = choice([parent1[\"f2\"], parent2[\"f2\"]])\n",
        "  child1[\"f3\"] = choice([parent1[\"f3\"], parent2[\"f3\"]])\n",
        "\n",
        "  child2[\"f1\"] = choice([parent1[\"f1\"], parent2[\"f1\"]])\n",
        "  child2[\"f2\"] = choice([parent1[\"f2\"], parent2[\"f2\"]])\n",
        "  child2[\"f3\"] = choice([parent1[\"f3\"], parent2[\"f3\"]])\n",
        "\n",
        "  child1[\"k\"] = choice([parent1[\"k\"], parent2[\"k\"]])\n",
        "  child2[\"k\"] = choice([parent1[\"k\"], parent2[\"k\"]])\n",
        "\n",
        "  child1[\"a1\"] = parent1[\"a2\"]\n",
        "  child2[\"a1\"] = parent2[\"a2\"]\n",
        "\n",
        "  child1[\"a2\"] = parent2[\"a1\"]\n",
        "  child2[\"a2\"] = parent1[\"a1\"]\n",
        "\n",
        "  child1[\"d1\"] = parent1[\"d1\"]\n",
        "  child2[\"d1\"] = parent2[\"d1\"]\n",
        "\n",
        "  child1[\"d2\"] = parent2[\"d2\"]\n",
        "  child2[\"d2\"] = parent1[\"d2\"]\n",
        "\n",
        "  child1[\"op\"] = parent2[\"op\"]\n",
        "  child2[\"op\"] = parent1[\"op\"]\n",
        "\n",
        "  child1[\"ep\"] = parent1[\"ep\"]\n",
        "  child2[\"ep\"] = parent2[\"ep\"]\n",
        "  return [child1, child2]\n",
        "\n"
      ],
      "execution_count": null,
      "outputs": []
    },
    {
      "cell_type": "code",
      "metadata": {
        "id": "Dy1YYtVSQeGz"
      },
      "source": [
        "\n",
        "def mutation(chromosome):\n",
        "  flag = randint(0,40)\n",
        "  if flag <= 20:\n",
        "    chromosome[\"ep\"] += randint(0, 10)\n",
        "  return chromosome"
      ],
      "execution_count": null,
      "outputs": []
    },
    {
      "cell_type": "code",
      "metadata": {
        "id": "P4cKfDePQkU0",
        "colab": {
          "base_uri": "https://localhost:8080/",
          "height": 798
        },
        "outputId": "d21a3268-9c92-4535-c8ec-e1d3a52d2e8c"
      },
      "source": [
        "\n",
        "generations = 20\n",
        "threshold = 90\n",
        "num_pop = 10\n",
        "\n",
        "population = generate_population(num_pop)\n",
        "\n",
        "for generation in range(generations):\n",
        "\n",
        "  population_fitness = []\n",
        "  for chromosome in population:\n",
        "    f1 = chromosome[\"f1\"]\n",
        "    f2 = chromosome[\"f2\"]\n",
        "    f3 = chromosome[\"f3\"]\n",
        "    k = chromosome[\"k\"]\n",
        "    a1 = chromosome[\"a1\"]\n",
        "    a2 = chromosome[\"a2\"]\n",
        "    d1 = chromosome[\"d1\"]\n",
        "    d2 = chromosome[\"d2\"]\n",
        "    op = chromosome[\"op\"]\n",
        "    ep = chromosome[\"ep\"]\n",
        "\n",
        "    model = CNN_model(f1, f2, f3, k, a1, a2, d1,d2, op, ep)\n",
        "\n",
        "    try:\n",
        "      model = CNN_model(f1,f2,  f3, k, a1, a2,d1, d2, op, ep)\n",
        "      acc = fitness_evaluation(model)\n",
        "      print(\"Parameters: \", chromosome)\n",
        "      print(\"Accuracy: \", round(acc,3))\n",
        "    except:\n",
        "      acc=0\n",
        "      print(\"Parameters: \", chromosome)\n",
        "      print(\"Invalid parameters - Build fail\")\n",
        "\n",
        "    population_fitness.append(acc)\n",
        "\n",
        "  parents_ind = selection(population_fitness)\n",
        "  parent1 = population[parents_ind[0]]\n",
        "  parent2 = population[parents_ind[1]]\n",
        "\n",
        "  children = crossover(parent1, parent2)\n",
        "  child1 = mutation(children[0])\n",
        "  child2 = mutation(children[1])\n",
        "\n",
        "  population.append(child1)\n",
        "  population.append(child2)\n",
        "\n",
        "  print(\"Generation \", generation+1,\" Outcome: \")\n",
        "  if max(population_fitness) >= threshold:\n",
        "    print(\"Obtained desired accuracy: \", max(population_fitness))\n",
        "    break\n",
        "  else:\n",
        "    print(\"Maximum accuracy in generation {} : {}\".format(generation+1, max(population_fitness)))\n",
        "\n",
        "  first_min = min(population_fitness)\n",
        "  first_min_ind = population_fitness.index(first_min)\n",
        "  population.remove(population[first_min_ind])\n",
        "  second_min = min(population_fitness)\n",
        "  second_min_ind = population_fitness.index(second_min)\n",
        "  population.remove(population[second_min_ind])\n"
      ],
      "execution_count": null,
      "outputs": [
        {
          "output_type": "error",
          "ename": "ValueError",
          "evalue": "ignored",
          "traceback": [
            "\u001b[0;31m---------------------------------------------------------------------------\u001b[0m",
            "\u001b[0;31mValueError\u001b[0m                                Traceback (most recent call last)",
            "\u001b[0;32m<ipython-input-75-b61048ecb2f4>\u001b[0m in \u001b[0;36m<cell line: 7>\u001b[0;34m()\u001b[0m\n\u001b[1;32m     20\u001b[0m     \u001b[0mep\u001b[0m \u001b[0;34m=\u001b[0m \u001b[0mchromosome\u001b[0m\u001b[0;34m[\u001b[0m\u001b[0;34m\"ep\"\u001b[0m\u001b[0;34m]\u001b[0m\u001b[0;34m\u001b[0m\u001b[0;34m\u001b[0m\u001b[0m\n\u001b[1;32m     21\u001b[0m \u001b[0;34m\u001b[0m\u001b[0m\n\u001b[0;32m---> 22\u001b[0;31m     \u001b[0mmodel\u001b[0m \u001b[0;34m=\u001b[0m \u001b[0mCNN_model\u001b[0m\u001b[0;34m(\u001b[0m\u001b[0mf1\u001b[0m\u001b[0;34m,\u001b[0m \u001b[0mf2\u001b[0m\u001b[0;34m,\u001b[0m \u001b[0mf3\u001b[0m\u001b[0;34m,\u001b[0m \u001b[0mk\u001b[0m\u001b[0;34m,\u001b[0m \u001b[0ma1\u001b[0m\u001b[0;34m,\u001b[0m \u001b[0ma2\u001b[0m\u001b[0;34m,\u001b[0m \u001b[0md1\u001b[0m\u001b[0;34m,\u001b[0m\u001b[0md2\u001b[0m\u001b[0;34m,\u001b[0m \u001b[0mop\u001b[0m\u001b[0;34m,\u001b[0m \u001b[0mep\u001b[0m\u001b[0;34m)\u001b[0m\u001b[0;34m\u001b[0m\u001b[0;34m\u001b[0m\u001b[0m\n\u001b[0m\u001b[1;32m     23\u001b[0m \u001b[0;34m\u001b[0m\u001b[0m\n\u001b[1;32m     24\u001b[0m     \u001b[0;32mtry\u001b[0m\u001b[0;34m:\u001b[0m\u001b[0;34m\u001b[0m\u001b[0;34m\u001b[0m\u001b[0m\n",
            "\u001b[0;32m<ipython-input-74-6ff59465daf2>\u001b[0m in \u001b[0;36mCNN_model\u001b[0;34m(f1, f2, f3, k, a1, a2, d1, d2, op, ep)\u001b[0m\n\u001b[1;32m     15\u001b[0m   \u001b[0mmodel\u001b[0m\u001b[0;34m.\u001b[0m\u001b[0mcompile\u001b[0m\u001b[0;34m(\u001b[0m\u001b[0mloss\u001b[0m \u001b[0;34m=\u001b[0m \u001b[0;34m\"categorical_crossentropy\"\u001b[0m\u001b[0;34m,\u001b[0m \u001b[0moptimizer\u001b[0m \u001b[0;34m=\u001b[0m \u001b[0mop\u001b[0m\u001b[0;34m,\u001b[0m \u001b[0mmetrics\u001b[0m \u001b[0;34m=\u001b[0m \u001b[0;34m[\u001b[0m\u001b[0;34m\"accuracy\"\u001b[0m\u001b[0;34m]\u001b[0m\u001b[0;34m)\u001b[0m\u001b[0;34m\u001b[0m\u001b[0;34m\u001b[0m\u001b[0m\n\u001b[1;32m     16\u001b[0m   \u001b[0mes\u001b[0m \u001b[0;34m=\u001b[0m \u001b[0mEarlyStopping\u001b[0m\u001b[0;34m(\u001b[0m\u001b[0mmonitor\u001b[0m\u001b[0;34m=\u001b[0m\u001b[0;34m\"val_accuracy\"\u001b[0m\u001b[0;34m,\u001b[0m \u001b[0mpatience\u001b[0m \u001b[0;34m=\u001b[0m \u001b[0;36m7\u001b[0m\u001b[0;34m)\u001b[0m\u001b[0;34m\u001b[0m\u001b[0;34m\u001b[0m\u001b[0m\n\u001b[0;32m---> 17\u001b[0;31m   \u001b[0mmodel\u001b[0m\u001b[0;34m.\u001b[0m\u001b[0mfit\u001b[0m\u001b[0;34m(\u001b[0m\u001b[0mX_train\u001b[0m\u001b[0;34m,\u001b[0m \u001b[0my_train\u001b[0m\u001b[0;34m,\u001b[0m \u001b[0mvalidation_data\u001b[0m\u001b[0;34m=\u001b[0m\u001b[0;34m(\u001b[0m\u001b[0mX_val\u001b[0m\u001b[0;34m,\u001b[0m \u001b[0my_val\u001b[0m\u001b[0;34m)\u001b[0m\u001b[0;34m,\u001b[0m \u001b[0mepochs\u001b[0m\u001b[0;34m=\u001b[0m\u001b[0mep\u001b[0m\u001b[0;34m,\u001b[0m \u001b[0mcallbacks\u001b[0m \u001b[0;34m=\u001b[0m \u001b[0;34m[\u001b[0m\u001b[0mes\u001b[0m\u001b[0;34m]\u001b[0m\u001b[0;34m,\u001b[0m \u001b[0mverbose\u001b[0m\u001b[0;34m=\u001b[0m\u001b[0;36m0\u001b[0m\u001b[0;34m)\u001b[0m\u001b[0;34m\u001b[0m\u001b[0;34m\u001b[0m\u001b[0m\n\u001b[0m\u001b[1;32m     18\u001b[0m \u001b[0;34m\u001b[0m\u001b[0m\n\u001b[1;32m     19\u001b[0m \u001b[0;34m\u001b[0m\u001b[0m\n",
            "\u001b[0;32m/usr/local/lib/python3.10/dist-packages/keras/utils/traceback_utils.py\u001b[0m in \u001b[0;36merror_handler\u001b[0;34m(*args, **kwargs)\u001b[0m\n\u001b[1;32m     68\u001b[0m             \u001b[0;31m# To get the full stack trace, call:\u001b[0m\u001b[0;34m\u001b[0m\u001b[0;34m\u001b[0m\u001b[0m\n\u001b[1;32m     69\u001b[0m             \u001b[0;31m# `tf.debugging.disable_traceback_filtering()`\u001b[0m\u001b[0;34m\u001b[0m\u001b[0;34m\u001b[0m\u001b[0m\n\u001b[0;32m---> 70\u001b[0;31m             \u001b[0;32mraise\u001b[0m \u001b[0me\u001b[0m\u001b[0;34m.\u001b[0m\u001b[0mwith_traceback\u001b[0m\u001b[0;34m(\u001b[0m\u001b[0mfiltered_tb\u001b[0m\u001b[0;34m)\u001b[0m \u001b[0;32mfrom\u001b[0m \u001b[0;32mNone\u001b[0m\u001b[0;34m\u001b[0m\u001b[0;34m\u001b[0m\u001b[0m\n\u001b[0m\u001b[1;32m     71\u001b[0m         \u001b[0;32mfinally\u001b[0m\u001b[0;34m:\u001b[0m\u001b[0;34m\u001b[0m\u001b[0;34m\u001b[0m\u001b[0m\n\u001b[1;32m     72\u001b[0m             \u001b[0;32mdel\u001b[0m \u001b[0mfiltered_tb\u001b[0m\u001b[0;34m\u001b[0m\u001b[0;34m\u001b[0m\u001b[0m\n",
            "\u001b[0;32m/usr/local/lib/python3.10/dist-packages/keras/engine/training.py\u001b[0m in \u001b[0;36mtf__train_function\u001b[0;34m(iterator)\u001b[0m\n\u001b[1;32m     13\u001b[0m                 \u001b[0;32mtry\u001b[0m\u001b[0;34m:\u001b[0m\u001b[0;34m\u001b[0m\u001b[0;34m\u001b[0m\u001b[0m\n\u001b[1;32m     14\u001b[0m                     \u001b[0mdo_return\u001b[0m \u001b[0;34m=\u001b[0m \u001b[0;32mTrue\u001b[0m\u001b[0;34m\u001b[0m\u001b[0;34m\u001b[0m\u001b[0m\n\u001b[0;32m---> 15\u001b[0;31m                     \u001b[0mretval_\u001b[0m \u001b[0;34m=\u001b[0m \u001b[0mag__\u001b[0m\u001b[0;34m.\u001b[0m\u001b[0mconverted_call\u001b[0m\u001b[0;34m(\u001b[0m\u001b[0mag__\u001b[0m\u001b[0;34m.\u001b[0m\u001b[0mld\u001b[0m\u001b[0;34m(\u001b[0m\u001b[0mstep_function\u001b[0m\u001b[0;34m)\u001b[0m\u001b[0;34m,\u001b[0m \u001b[0;34m(\u001b[0m\u001b[0mag__\u001b[0m\u001b[0;34m.\u001b[0m\u001b[0mld\u001b[0m\u001b[0;34m(\u001b[0m\u001b[0mself\u001b[0m\u001b[0;34m)\u001b[0m\u001b[0;34m,\u001b[0m \u001b[0mag__\u001b[0m\u001b[0;34m.\u001b[0m\u001b[0mld\u001b[0m\u001b[0;34m(\u001b[0m\u001b[0miterator\u001b[0m\u001b[0;34m)\u001b[0m\u001b[0;34m)\u001b[0m\u001b[0;34m,\u001b[0m \u001b[0;32mNone\u001b[0m\u001b[0;34m,\u001b[0m \u001b[0mfscope\u001b[0m\u001b[0;34m)\u001b[0m\u001b[0;34m\u001b[0m\u001b[0;34m\u001b[0m\u001b[0m\n\u001b[0m\u001b[1;32m     16\u001b[0m                 \u001b[0;32mexcept\u001b[0m\u001b[0;34m:\u001b[0m\u001b[0;34m\u001b[0m\u001b[0;34m\u001b[0m\u001b[0m\n\u001b[1;32m     17\u001b[0m                     \u001b[0mdo_return\u001b[0m \u001b[0;34m=\u001b[0m \u001b[0;32mFalse\u001b[0m\u001b[0;34m\u001b[0m\u001b[0;34m\u001b[0m\u001b[0m\n",
            "\u001b[0;31mValueError\u001b[0m: in user code:\n\n    File \"/usr/local/lib/python3.10/dist-packages/keras/engine/training.py\", line 1284, in train_function  *\n        return step_function(self, iterator)\n    File \"/usr/local/lib/python3.10/dist-packages/keras/engine/training.py\", line 1268, in step_function  **\n        outputs = model.distribute_strategy.run(run_step, args=(data,))\n    File \"/usr/local/lib/python3.10/dist-packages/keras/engine/training.py\", line 1249, in run_step  **\n        outputs = model.train_step(data)\n    File \"/usr/local/lib/python3.10/dist-packages/keras/engine/training.py\", line 1050, in train_step\n        y_pred = self(x, training=True)\n    File \"/usr/local/lib/python3.10/dist-packages/keras/utils/traceback_utils.py\", line 70, in error_handler\n        raise e.with_traceback(filtered_tb) from None\n    File \"/usr/local/lib/python3.10/dist-packages/keras/engine/input_spec.py\", line 253, in assert_input_compatibility\n        raise ValueError(\n\n    ValueError: Exception encountered when calling layer 'sequential_5' (type Sequential).\n    \n    Input 0 of layer \"conv2d_17\" is incompatible with the layer: expected min_ndim=4, found ndim=1. Full shape received: (None,)\n    \n    Call arguments received by layer 'sequential_5' (type Sequential):\n      • inputs=tf.Tensor(shape=(None,), dtype=string)\n      • training=True\n      • mask=None\n"
          ]
        }
      ]
    },
    {
      "cell_type": "code",
      "source": [],
      "metadata": {
        "id": "sLxfV1YR517H"
      },
      "execution_count": null,
      "outputs": []
    }
  ]
}